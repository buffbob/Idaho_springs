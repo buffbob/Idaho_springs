{
 "cells": [
  {
   "cell_type": "code",
   "execution_count": 59,
   "metadata": {},
   "outputs": [
    {
     "name": "stdout",
     "output_type": "stream",
     "text": [
      "The autoreload extension is already loaded. To reload it, use:\n",
      "  %reload_ext autoreload\n"
     ]
    }
   ],
   "source": [
    "# %load template.py\n",
    "# %load template.py\n",
    "import glob\n",
    "import io\n",
    "import ipyleaflet\n",
    "import IPython.display\n",
    "import ipyvolume.pylab as p3\n",
    "import json\n",
    "import matplotlib.cm\n",
    "import matplotlib.pyplot as plt\n",
    "import numpy as np\n",
    "import os\n",
    "import pandas as pd\n",
    "import pdal\n",
    "import PIL\n",
    "import pyproj\n",
    "import requests\n",
    "import fiona\n",
    "import shapely.geometry\n",
    "from shapely.geometry import Polygon, mapping\n",
    "import scipy.spatial\n",
    "import sys\n",
    "import urllib.request\n",
    "\n",
    "%load_ext autoreload\n",
    "%autoreload 2\n",
    "    \n",
    "sys.path.append('../src')\n",
    "from pcl_utils import local_max\n",
    "\n",
    "# Url for aerial imagery\n",
    "# IVaerial = \"https://geoservices.informatievlaanderen.be/raadpleegdiensten/ogw/wms?SERVICE=WMS&VERSION=1.3.0&REQUEST=GetMap&CRS=EPSG:31370&BBOX={0},{1},{2},{3}&WIDTH=512&HEIGHT=512&LAYERS=OGWRGB13_15VL&STYLES=default&FORMAT=image/png\"\n",
    "\n",
    "%matplotlib inline"
   ]
  },
  {
   "cell_type": "code",
   "execution_count": 17,
   "metadata": {},
   "outputs": [],
   "source": [
    "# look at tunnel site\n",
    "# from bigLaz- crop, \n",
    "bigLaz = \"/media/thistle/Passport/gis/Idaho_Springs/lidar_downloads/outputs/bigLaz.laz\""
   ]
  },
  {
   "cell_type": "code",
   "execution_count": 12,
   "metadata": {},
   "outputs": [],
   "source": [
    "# get tunnel_poly\n",
    "polys = {}\n",
    "sites_fp = \"/home/thistle/Documents/dev/ML/idaho1/data/gis/sites_of_interest/sites.shp\"\n",
    "with fiona.open(sites_fp, \"r\") as f:\n",
    "    for each in f:\n",
    "        polys[each['properties']['name']] =  each['geometry']['coordinates'][0]"
   ]
  },
  {
   "cell_type": "code",
   "execution_count": 13,
   "metadata": {},
   "outputs": [
    {
     "data": {
      "text/plain": [
       "{'tunnel': [(459124.6879059952, 4399616.3684700085),\n",
       "  (459903.65261469834, 4399671.354214152),\n",
       "  (459919.69012340694, 4399265.834351093),\n",
       "  (459729.53109157644, 4398945.08417692),\n",
       "  (459223.2040309194, 4399247.505769711),\n",
       "  (459124.6879059952, 4399616.3684700085)],\n",
       " 'gulch': [(461450.12666874146, 4399439.955874214),\n",
       "  (461766.29469756805, 4399430.791583523),\n",
       "  (461825.8625870571, 4399100.877118661),\n",
       "  (461532.6052849571, 4398876.35199674),\n",
       "  (461367.6480525258, 4398523.526805151),\n",
       "  (461005.65857024613, 4398069.894415965),\n",
       "  (460845.2834831602, 4398317.330264612),\n",
       "  (460982.74784351955, 4398720.559055),\n",
       "  (461445.5445233962, 4399178.773589531),\n",
       "  (461450.12666874146, 4399439.955874214)],\n",
       " 'bridge': [(462448.03200972814, 4399742.950235166),\n",
       "  (462551.13027999847, 4399477.185805135),\n",
       "  (462326.60515807645, 4399053.337360691),\n",
       "  (461979.50764816644, 4399214.857984114),\n",
       "  (461917.6486860043, 4399379.815216547),\n",
       "  (462448.03200972814, 4399742.950235166)]}"
      ]
     },
     "execution_count": 13,
     "metadata": {},
     "output_type": "execute_result"
    }
   ],
   "source": [
    "polys"
   ]
  },
  {
   "cell_type": "code",
   "execution_count": 15,
   "metadata": {
    "scrolled": true
   },
   "outputs": [
    {
     "data": {
      "text/plain": [
       "'POLYGON ((459124.6879059951752424 4399616.3684700084850192, 459903.6526146983378567 4399671.3542141523212194, 459919.6901234069373459 4399265.8343510925769806, 459729.5310915764421225 4398945.0841769203543663, 459223.2040309194126166 4399247.5057697109878063, 459124.6879059951752424 4399616.3684700084850192))'"
      ]
     },
     "execution_count": 15,
     "metadata": {},
     "output_type": "execute_result"
    }
   ],
   "source": [
    "# looking at tunnel site\n",
    "tunnel = Polygon(polys['tunnel'])\n",
    "tunnel.to_wkt()"
   ]
  },
  {
   "cell_type": "code",
   "execution_count": 18,
   "metadata": {},
   "outputs": [
    {
     "data": {
      "text/plain": [
       "'/media/thistle/Passport/gis/Idaho_Springs/lidar_downloads/outputs/bigLaz.laz'"
      ]
     },
     "execution_count": 18,
     "metadata": {},
     "output_type": "execute_result"
    }
   ],
   "source": [
    "bigLaz"
   ]
  },
  {
   "cell_type": "code",
   "execution_count": 20,
   "metadata": {},
   "outputs": [],
   "source": [
    "output_las = '/media/thistle/Passport/gis/Idaho_Springs/lidar_downloads/outputs/tunnel1.las'\n",
    "pipe1 = {\"pipeline\":[\n",
    "    {\n",
    "        \"type\": \"readers.las\",\n",
    "        \"filename\": bigLaz\n",
    "    },\n",
    "    {\n",
    "        \"type\": \"filters.crop\",\n",
    "        \"polygon\": tunnel.to_wkt()\n",
    "    },\n",
    "    {\n",
    "        \"type\": \"filters.hag\"  \n",
    "    },\n",
    "    {\n",
    "        \"type\": \"filters.eigenvalues\",\n",
    "        \"knn\": 16\n",
    "    },\n",
    "    {\n",
    "        \"type\": \"filters.normal\",\n",
    "        \"knn\": 16\n",
    "    },\n",
    "    {\n",
    "        \"type\": \"writers.las\",\n",
    "        \"filename\": output_las\n",
    "    }\n",
    "\n",
    "]}"
   ]
  },
  {
   "cell_type": "code",
   "execution_count": 21,
   "metadata": {},
   "outputs": [
    {
     "data": {
      "text/plain": [
       "True"
      ]
     },
     "execution_count": 21,
     "metadata": {},
     "output_type": "execute_result"
    }
   ],
   "source": [
    "pp = pdal.Pipeline(json.dumps(pipe1))\n",
    "pp.validate()"
   ]
  },
  {
   "cell_type": "code",
   "execution_count": 23,
   "metadata": {},
   "outputs": [
    {
     "name": "stdout",
     "output_type": "stream",
     "text": [
      "2,700,540 processed\n",
      "CPU times: user 1min 53s, sys: 2.12 s, total: 1min 55s\n",
      "Wall time: 1min 56s\n"
     ]
    }
   ],
   "source": [
    "%%time\n",
    "numpts = pp.execute()\n",
    "print(f\"{numpts:,} processed\")"
   ]
  },
  {
   "cell_type": "code",
   "execution_count": 41,
   "metadata": {},
   "outputs": [],
   "source": [
    "# !dir(pp)"
   ]
  },
  {
   "cell_type": "code",
   "execution_count": 26,
   "metadata": {},
   "outputs": [],
   "source": [
    "arr = pp.arrays[0]"
   ]
  },
  {
   "cell_type": "code",
   "execution_count": 29,
   "metadata": {},
   "outputs": [],
   "source": [
    "description = arr.dtype.descr"
   ]
  },
  {
   "cell_type": "code",
   "execution_count": 40,
   "metadata": {},
   "outputs": [
    {
     "name": "stdout",
     "output_type": "stream",
     "text": [
      "['X', 'Y', 'Z', 'Intensity', 'ReturnNumber', 'NumberOfReturns', 'ScanDirectionFlag', 'EdgeOfFlightLine', 'Classification', 'ScanAngleRank', 'UserData', 'PointSourceId', 'GpsTime', 'Red', 'Green', 'Blue', 'HeightAboveGround', 'Eigenvalue0', 'Eigenvalue1', 'Eigenvalue2', 'NormalX', 'NormalY', 'NormalZ', 'Curvature']\n"
     ]
    }
   ],
   "source": [
    "cols = [each for each, _ in description]\n",
    "print(cols)"
   ]
  },
  {
   "cell_type": "code",
   "execution_count": 38,
   "metadata": {},
   "outputs": [
    {
     "data": {
      "text/plain": [
       "(2700540, 24)"
      ]
     },
     "execution_count": 38,
     "metadata": {},
     "output_type": "execute_result"
    }
   ],
   "source": [
    "df = pd.DataFrame({col:arr[col] for col in cols})\n",
    "df.shape"
   ]
  },
  {
   "cell_type": "code",
   "execution_count": 39,
   "metadata": {},
   "outputs": [
    {
     "data": {
      "text/html": [
       "<div>\n",
       "<style scoped>\n",
       "    .dataframe tbody tr th:only-of-type {\n",
       "        vertical-align: middle;\n",
       "    }\n",
       "\n",
       "    .dataframe tbody tr th {\n",
       "        vertical-align: top;\n",
       "    }\n",
       "\n",
       "    .dataframe thead th {\n",
       "        text-align: right;\n",
       "    }\n",
       "</style>\n",
       "<table border=\"1\" class=\"dataframe\">\n",
       "  <thead>\n",
       "    <tr style=\"text-align: right;\">\n",
       "      <th></th>\n",
       "      <th>X</th>\n",
       "      <th>Y</th>\n",
       "      <th>Z</th>\n",
       "      <th>Intensity</th>\n",
       "      <th>ReturnNumber</th>\n",
       "      <th>NumberOfReturns</th>\n",
       "      <th>ScanDirectionFlag</th>\n",
       "      <th>EdgeOfFlightLine</th>\n",
       "      <th>Classification</th>\n",
       "      <th>ScanAngleRank</th>\n",
       "      <th>...</th>\n",
       "      <th>Green</th>\n",
       "      <th>Blue</th>\n",
       "      <th>HeightAboveGround</th>\n",
       "      <th>Eigenvalue0</th>\n",
       "      <th>Eigenvalue1</th>\n",
       "      <th>Eigenvalue2</th>\n",
       "      <th>NormalX</th>\n",
       "      <th>NormalY</th>\n",
       "      <th>NormalZ</th>\n",
       "      <th>Curvature</th>\n",
       "    </tr>\n",
       "  </thead>\n",
       "  <tbody>\n",
       "    <tr>\n",
       "      <th>0</th>\n",
       "      <td>459155.87</td>\n",
       "      <td>4399499.90</td>\n",
       "      <td>2253.06</td>\n",
       "      <td>51</td>\n",
       "      <td>1</td>\n",
       "      <td>1</td>\n",
       "      <td>0</td>\n",
       "      <td>0</td>\n",
       "      <td>2</td>\n",
       "      <td>-10.0</td>\n",
       "      <td>...</td>\n",
       "      <td>0</td>\n",
       "      <td>0</td>\n",
       "      <td>0.0</td>\n",
       "      <td>0.001872</td>\n",
       "      <td>0.091064</td>\n",
       "      <td>0.195129</td>\n",
       "      <td>-0.051803</td>\n",
       "      <td>-0.094295</td>\n",
       "      <td>0.994196</td>\n",
       "      <td>0.006500</td>\n",
       "    </tr>\n",
       "    <tr>\n",
       "      <th>1</th>\n",
       "      <td>459156.33</td>\n",
       "      <td>4399499.51</td>\n",
       "      <td>2253.04</td>\n",
       "      <td>51</td>\n",
       "      <td>1</td>\n",
       "      <td>1</td>\n",
       "      <td>1</td>\n",
       "      <td>0</td>\n",
       "      <td>2</td>\n",
       "      <td>-10.0</td>\n",
       "      <td>...</td>\n",
       "      <td>0</td>\n",
       "      <td>0</td>\n",
       "      <td>0.0</td>\n",
       "      <td>0.001825</td>\n",
       "      <td>0.073161</td>\n",
       "      <td>0.216886</td>\n",
       "      <td>-0.054036</td>\n",
       "      <td>-0.078679</td>\n",
       "      <td>0.995434</td>\n",
       "      <td>0.006251</td>\n",
       "    </tr>\n",
       "    <tr>\n",
       "      <th>2</th>\n",
       "      <td>459156.36</td>\n",
       "      <td>4399498.81</td>\n",
       "      <td>2252.98</td>\n",
       "      <td>48</td>\n",
       "      <td>1</td>\n",
       "      <td>1</td>\n",
       "      <td>1</td>\n",
       "      <td>0</td>\n",
       "      <td>2</td>\n",
       "      <td>-10.0</td>\n",
       "      <td>...</td>\n",
       "      <td>0</td>\n",
       "      <td>0</td>\n",
       "      <td>0.0</td>\n",
       "      <td>0.001861</td>\n",
       "      <td>0.064083</td>\n",
       "      <td>0.232987</td>\n",
       "      <td>-0.090483</td>\n",
       "      <td>-0.028608</td>\n",
       "      <td>0.995487</td>\n",
       "      <td>0.006226</td>\n",
       "    </tr>\n",
       "    <tr>\n",
       "      <th>3</th>\n",
       "      <td>459156.39</td>\n",
       "      <td>4399498.10</td>\n",
       "      <td>2253.02</td>\n",
       "      <td>46</td>\n",
       "      <td>1</td>\n",
       "      <td>1</td>\n",
       "      <td>1</td>\n",
       "      <td>0</td>\n",
       "      <td>2</td>\n",
       "      <td>-10.0</td>\n",
       "      <td>...</td>\n",
       "      <td>0</td>\n",
       "      <td>0</td>\n",
       "      <td>0.0</td>\n",
       "      <td>0.001429</td>\n",
       "      <td>0.067241</td>\n",
       "      <td>0.213996</td>\n",
       "      <td>-0.061574</td>\n",
       "      <td>-0.054032</td>\n",
       "      <td>0.996639</td>\n",
       "      <td>0.005055</td>\n",
       "    </tr>\n",
       "    <tr>\n",
       "      <th>4</th>\n",
       "      <td>459157.26</td>\n",
       "      <td>4399497.38</td>\n",
       "      <td>2252.92</td>\n",
       "      <td>52</td>\n",
       "      <td>1</td>\n",
       "      <td>1</td>\n",
       "      <td>0</td>\n",
       "      <td>0</td>\n",
       "      <td>2</td>\n",
       "      <td>-10.0</td>\n",
       "      <td>...</td>\n",
       "      <td>0</td>\n",
       "      <td>0</td>\n",
       "      <td>0.0</td>\n",
       "      <td>0.001023</td>\n",
       "      <td>0.097466</td>\n",
       "      <td>0.169182</td>\n",
       "      <td>-0.056240</td>\n",
       "      <td>-0.099127</td>\n",
       "      <td>0.993484</td>\n",
       "      <td>0.003821</td>\n",
       "    </tr>\n",
       "  </tbody>\n",
       "</table>\n",
       "<p>5 rows × 24 columns</p>\n",
       "</div>"
      ],
      "text/plain": [
       "           X           Y        Z  Intensity  ReturnNumber  NumberOfReturns  \\\n",
       "0  459155.87  4399499.90  2253.06         51             1                1   \n",
       "1  459156.33  4399499.51  2253.04         51             1                1   \n",
       "2  459156.36  4399498.81  2252.98         48             1                1   \n",
       "3  459156.39  4399498.10  2253.02         46             1                1   \n",
       "4  459157.26  4399497.38  2252.92         52             1                1   \n",
       "\n",
       "   ScanDirectionFlag  EdgeOfFlightLine  Classification  ScanAngleRank  ...  \\\n",
       "0                  0                 0               2          -10.0  ...   \n",
       "1                  1                 0               2          -10.0  ...   \n",
       "2                  1                 0               2          -10.0  ...   \n",
       "3                  1                 0               2          -10.0  ...   \n",
       "4                  0                 0               2          -10.0  ...   \n",
       "\n",
       "   Green  Blue  HeightAboveGround  Eigenvalue0  Eigenvalue1  Eigenvalue2  \\\n",
       "0      0     0                0.0     0.001872     0.091064     0.195129   \n",
       "1      0     0                0.0     0.001825     0.073161     0.216886   \n",
       "2      0     0                0.0     0.001861     0.064083     0.232987   \n",
       "3      0     0                0.0     0.001429     0.067241     0.213996   \n",
       "4      0     0                0.0     0.001023     0.097466     0.169182   \n",
       "\n",
       "    NormalX   NormalY   NormalZ  Curvature  \n",
       "0 -0.051803 -0.094295  0.994196   0.006500  \n",
       "1 -0.054036 -0.078679  0.995434   0.006251  \n",
       "2 -0.090483 -0.028608  0.995487   0.006226  \n",
       "3 -0.061574 -0.054032  0.996639   0.005055  \n",
       "4 -0.056240 -0.099127  0.993484   0.003821  \n",
       "\n",
       "[5 rows x 24 columns]"
      ]
     },
     "execution_count": 39,
     "metadata": {},
     "output_type": "execute_result"
    }
   ],
   "source": [
    "# df.describe()\n",
    "# df.info()\n",
    "df.head()"
   ]
  },
  {
   "cell_type": "code",
   "execution_count": 42,
   "metadata": {},
   "outputs": [],
   "source": [
    "df['X_0'] = df['X']\n",
    "df['Y_0'] = df['Y']\n",
    "df['Z_0'] = df['Z']\n",
    "df['X'] = df['X'] - df['X_0'].min()\n",
    "df['Y'] = df['Y'] - df['Y_0'].min()\n",
    "df['Z'] = df['Z'] - df['Z_0'].min()"
   ]
  },
  {
   "cell_type": "code",
   "execution_count": 43,
   "metadata": {},
   "outputs": [
    {
     "data": {
      "text/plain": [
       "(459124.9, 0.0)"
      ]
     },
     "execution_count": 43,
     "metadata": {},
     "output_type": "execute_result"
    }
   ],
   "source": [
    "df['X_0'].min(), df['X'].min()"
   ]
  },
  {
   "cell_type": "code",
   "execution_count": 44,
   "metadata": {},
   "outputs": [
    {
     "data": {
      "text/plain": [
       "(459919.38, 794.4799999999814)"
      ]
     },
     "execution_count": 44,
     "metadata": {},
     "output_type": "execute_result"
    }
   ],
   "source": [
    "df['X_0'].max(), df['X'].max()"
   ]
  },
  {
   "cell_type": "code",
   "execution_count": 50,
   "metadata": {},
   "outputs": [
    {
     "data": {
      "application/vnd.jupyter.widget-view+json": {
       "model_id": "2eaef0bd962341d298d9d822a845dad9",
       "version_major": 2,
       "version_minor": 0
      },
      "text/plain": [
       "VBox(children=(Figure(camera=PerspectiveCamera(fov=46.0, position=(0.0, 0.0, 2.0), quaternion=(0.0, 0.0, 0.0, …"
      ]
     },
     "metadata": {},
     "output_type": "display_data"
    }
   ],
   "source": [
    "fig = p3.figure(width=1000)\n",
    "fig.xlabel='Y'\n",
    "fig.ylabel='Z'\n",
    "fig.zlabel='X'\n",
    "all_points = p3.scatter(df['Y'], df['Z'], df['X'], color='red', size=.2)\n",
    "p3.squarelim()\n",
    "p3.show()\n",
    "\n",
    "# you can see the powerlines well"
   ]
  },
  {
   "cell_type": "code",
   "execution_count": 51,
   "metadata": {},
   "outputs": [],
   "source": [
    "# Color ground in grey\n",
    "df['ground'] = df['Classification']==2\n",
    "ground = p3.scatter(df.loc[df['ground'],'Y'].values, df.loc[df['ground'],'Z'].values, df.loc[df['ground'],'X'].values, color='red', size=.2)\n",
    "non_ground = p3.scatter(df.loc[~df['ground'],'Y'].values, df.loc[~df['ground'],'Z'].values, df.loc[~df['ground'],'X'].values, color='red', size=.2)\n",
    "fig.scatters.append(ground)\n",
    "fig.scatters.append(non_ground)\n",
    "all_points.visible = False\n",
    "ground.color='lightgrey'"
   ]
  },
  {
   "cell_type": "code",
   "execution_count": 53,
   "metadata": {},
   "outputs": [],
   "source": [
    "non_ground.visible = True  # False"
   ]
  },
  {
   "cell_type": "code",
   "execution_count": 47,
   "metadata": {},
   "outputs": [
    {
     "data": {
      "text/plain": [
       "2     919143\n",
       "18    719503\n",
       "1     712339\n",
       "17    348496\n",
       "7       1036\n",
       "11        23\n",
       "Name: Classification, dtype: int64"
      ]
     },
     "execution_count": 47,
     "metadata": {},
     "output_type": "execute_result"
    }
   ],
   "source": [
    "df['Classification'].value_counts()"
   ]
  },
  {
   "cell_type": "code",
   "execution_count": 54,
   "metadata": {},
   "outputs": [],
   "source": [
    "ground_delaunay = scipy.spatial.Delaunay(df.loc[df['ground'],['X','Y']])\n",
    "ground_surf = p3.plot_trisurf(df.loc[df['ground'],'Y'], df.loc[df['ground'],'Z'], df.loc[df['ground'],'X'], ground_delaunay.simplices, color='lightgrey')\n",
    "fig.meshes.append(ground_surf)\n",
    "# ground_surf.color = \"salmon\"\n",
    "ground.visible=False\n",
    "non_ground.visible=False"
   ]
  },
  {
   "cell_type": "code",
   "execution_count": 55,
   "metadata": {},
   "outputs": [],
   "source": [
    "# Color points according to flatness\n",
    "df['flatness'] = df['Eigenvalue0'] \n",
    "non_ground.color=matplotlib.cm.viridis(df.loc[~df['ground'],'flatness']*4)[:,0:3]"
   ]
  },
  {
   "cell_type": "code",
   "execution_count": 56,
   "metadata": {},
   "outputs": [],
   "source": [
    "# Separate between trees and the rest\n",
    "df['tree_potential'] = (df['Classification']==1) & (df['HeightAboveGround'] >= 2) & (df['flatness'] > .05) &  (df['NumberOfReturns'] - df['ReturnNumber'] >= 1) \n",
    "df['other'] = ~df['ground'] & ~df['tree_potential']\n",
    "tree_potential = p3.scatter(df.loc[df['tree_potential'],'Y'].values, df.loc[df['tree_potential'],'Z'].values, df.loc[df['tree_potential'],'X'].values, color=matplotlib.cm.viridis(df.loc[df['tree_potential'],'flatness']*4)[:,0:3], size=.2)\n",
    "other = p3.scatter(df.loc[df['other'],'Y'].values, df.loc[df['other'],'Z'].values, df.loc[df['other'],'X'].values, color=matplotlib.cm.viridis(df.loc[df['other'],'flatness']*4)[:,0:3], size=.2)\n",
    "non_ground.visible=False\n",
    "tree_potential.color='darkgreen'\n",
    "other.color='red'"
   ]
  },
  {
   "cell_type": "code",
   "execution_count": 57,
   "metadata": {},
   "outputs": [],
   "source": [
    "other.visible=False"
   ]
  },
  {
   "cell_type": "code",
   "execution_count": 73,
   "metadata": {},
   "outputs": [],
   "source": [
    "lep = local_max(df.loc[df['tree_potential'],['X','Y','Z','HeightAboveGround']], radius=3, density_threshold=5)\n",
    "\n",
    "treetop_spheres = p3.scatter(lep['Y'].values, lep['Z'].values, lep['X'].values, color='red', size=.5, marker='sphere')\n",
    "fig.scatters.append(treetop_spheres)"
   ]
  },
  {
   "cell_type": "code",
   "execution_count": 74,
   "metadata": {},
   "outputs": [],
   "source": [
    "treetop_spheres.color = matplotlib.cm.tab20(np.arange(len(lep['Z']))%10)[:,0:3]"
   ]
  },
  {
   "cell_type": "code",
   "execution_count": 75,
   "metadata": {},
   "outputs": [],
   "source": [
    "kdtree = scipy.spatial.kdtree.KDTree(lep[['X','Y','Z']])\n",
    "dist, idx = kdtree.query(df.loc[df['tree_potential'],['X','Y','Z']].values)\n",
    "tree_potential.color=matplotlib.cm.tab20(idx%10)[:,0:3]\n",
    "df.loc[df['tree_potential'], 'tree_idx'] = idx"
   ]
  },
  {
   "cell_type": "code",
   "execution_count": 76,
   "metadata": {},
   "outputs": [],
   "source": [
    "medians = df.groupby('tree_idx')[['X','Y','Z']].median()\n",
    "for axis in ['X','Y','Z']:\n",
    "    df['d'+axis] = df[axis] - df['tree_idx'].map(medians[axis])\n",
    "df['radius'] = np.linalg.norm(df[['dX', 'dY', 'dZ']].values, axis=1)\n",
    "radii = pd.DataFrame([df.groupby('tree_idx')['radius'].quantile(.5), lep['HeightAboveGround'].values*.4]).min()"
   ]
  },
  {
   "cell_type": "code",
   "execution_count": null,
   "metadata": {},
   "outputs": [],
   "source": []
  },
  {
   "cell_type": "code",
   "execution_count": 77,
   "metadata": {},
   "outputs": [],
   "source": [
    "scale = max(df['X'].max() - df['X'].min(), df['Y'].max() - df['Y'].min())\n",
    "treetop_spheres.x = medians['Y']\n",
    "treetop_spheres.y = medians['Z']\n",
    "treetop_spheres.z = medians['X']\n",
    "treetop_spheres.size = radii * 100 / scale"
   ]
  },
  {
   "cell_type": "code",
   "execution_count": 78,
   "metadata": {},
   "outputs": [],
   "source": [
    "# the power line displays quite distinctly"
   ]
  },
  {
   "cell_type": "code",
   "execution_count": 72,
   "metadata": {},
   "outputs": [],
   "source": [
    "tree_potential.visible = False\n",
    "other.visible = False"
   ]
  },
  {
   "cell_type": "code",
   "execution_count": 71,
   "metadata": {},
   "outputs": [],
   "source": [
    "other.visible = True\n",
    "treetop_spheres.color='darkgreen'\n",
    "p3.style.use('minimal')"
   ]
  },
  {
   "cell_type": "code",
   "execution_count": null,
   "metadata": {},
   "outputs": [],
   "source": [
    "# Continue working to find tallest trees not including powerlines"
   ]
  }
 ],
 "metadata": {
  "kernelspec": {
   "display_name": "Python 3",
   "language": "python",
   "name": "python3"
  },
  "language_info": {
   "codemirror_mode": {
    "name": "ipython",
    "version": 3
   },
   "file_extension": ".py",
   "mimetype": "text/x-python",
   "name": "python",
   "nbconvert_exporter": "python",
   "pygments_lexer": "ipython3",
   "version": "3.7.6"
  }
 },
 "nbformat": 4,
 "nbformat_minor": 4
}
