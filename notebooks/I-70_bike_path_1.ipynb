{
 "cells": [
  {
   "cell_type": "code",
   "execution_count": 1,
   "metadata": {},
   "outputs": [],
   "source": [
    "# companion qgis project at -- /home/thistle/Documents/dev/ML/idaho1/data/idaho_springs_i70_1.qgz\n",
    "# data stored at -- /home/thistle/Documents/dev/ML/idaho1/data/\n",
    "# project at -- /home/thistle/Documents/dev/ML/idaho1"
   ]
  },
  {
   "cell_type": "code",
   "execution_count": 2,
   "metadata": {},
   "outputs": [],
   "source": [
    "# %load template.py\n",
    "# %load template.py\n",
    "import glob\n",
    "import io\n",
    "import ipyleaflet\n",
    "import IPython.display\n",
    "import ipyvolume.pylab as p3\n",
    "import json\n",
    "import matplotlib.cm\n",
    "import matplotlib.pyplot as plt\n",
    "import numpy as np\n",
    "import os\n",
    "import pandas as pd\n",
    "import pdal\n",
    "import PIL\n",
    "import pyproj\n",
    "import requests\n",
    "import fiona\n",
    "import shapely.geometry\n",
    "from shapely.geometry import Polygon, mapping\n",
    "import scipy.spatial\n",
    "import sys\n",
    "import urllib.request\n",
    "from collections import OrderedDict\n",
    "from fiona.crs import from_epsg\n",
    "\n",
    "%load_ext autoreload\n",
    "%autoreload 2\n",
    "    \n",
    "sys.path.append('../src')\n",
    "from idaho1.pcl_utils import local_max\n",
    "%matplotlib inline"
   ]
  },
  {
   "cell_type": "code",
   "execution_count": 3,
   "metadata": {},
   "outputs": [
    {
     "data": {
      "image/jpeg": "[encoded data removed]",
      "text/html": [
       "\n",
       "        <iframe\n",
       "            width=\"400\"\n",
       "            height=\"300\"\n",
       "            src=\"https://www.youtube.com/embed/YAeSFwzRETY?start=55&autoplay=1&color=white\"\n",
       "            frameborder=\"0\"\n",
       "            allowfullscreen\n",
       "        ></iframe>\n",
       "        "
      ],
      "text/plain": [
       "<IPython.lib.display.YouTubeVideo at 0x7f4cef770a90>"
      ]
     },
     "execution_count": 3,
     "metadata": {},
     "output_type": "execute_result"
    }
   ],
   "source": [
    "from IPython.display import YouTubeVideo\n",
    "ytv = \"YAeSFwzRETY\"\n",
    "YouTubeVideo(ytv, start=55, autoplay=1, color='white')"
   ]
  },
  {
   "cell_type": "code",
   "execution_count": 4,
   "metadata": {},
   "outputs": [],
   "source": [
    "# sample filename-- USGS_LPC_CO_SoPlatteRiver_Lot5_2013_13SDD462398_LAS_2015.laz\n",
    "laz_dir = \"/media/thistle/Passport/gis/Idaho_Springs/lidar_downloads/\" # 6 files"
   ]
  },
  {
   "cell_type": "code",
   "execution_count": 5,
   "metadata": {},
   "outputs": [
    {
     "data": {
      "text/plain": [
       "['outs',\n",
       " 'USGS_LPC_CO_SoPlatteRiver_Lot5_2013_13SDD459398_LAS_2015.laz',\n",
       " 'USGS_LPC_CO_SoPlatteRiver_Lot5_2013_13SDD459399_LAS_2015.laz',\n",
       " 'USGS_LPC_CO_SoPlatteRiver_Lot5_2013_13SDD460398_LAS_2015.laz',\n",
       " 'USGS_LPC_CO_SoPlatteRiver_Lot5_2013_13SDD460399_LAS_2015.laz',\n",
       " 'USGS_LPC_CO_SoPlatteRiver_Lot5_2013_13SDD462398_LAS_2015.laz',\n",
       " 'USGS_LPC_CO_SoPlatteRiver_Lot5_2013_13SDD462399_LAS_2015.laz']"
      ]
     },
     "execution_count": 5,
     "metadata": {},
     "output_type": "execute_result"
    }
   ],
   "source": [
    "os.listdir(laz_dir)"
   ]
  },
  {
   "cell_type": "raw",
   "metadata": {},
   "source": [
    "import glob\n",
    "files1 = glob.glob(os.path.join(laz_dir, \"*.laz\"))\n",
    "len(files1)\n",
    "files1"
   ]
  },
  {
   "cell_type": "code",
   "execution_count": 11,
   "metadata": {},
   "outputs": [
    {
     "data": {
      "text/plain": [
       "['CLD_CONTINUED',\n",
       " 'CLD_DUMPED',\n",
       " 'CLD_EXITED',\n",
       " 'CLD_TRAPPED',\n",
       " 'DirEntry',\n",
       " 'EX_CANTCREAT',\n",
       " 'EX_CONFIG',\n",
       " 'EX_DATAERR',\n",
       " 'EX_IOERR',\n",
       " 'EX_NOHOST',\n",
       " 'EX_NOINPUT',\n",
       " 'EX_NOPERM',\n",
       " 'EX_NOUSER',\n",
       " 'EX_OK',\n",
       " 'EX_OSERR',\n",
       " 'EX_OSFILE',\n",
       " 'EX_PROTOCOL',\n",
       " 'EX_SOFTWARE',\n",
       " 'EX_TEMPFAIL',\n",
       " 'EX_UNAVAILABLE',\n",
       " 'EX_USAGE',\n",
       " 'F_LOCK',\n",
       " 'F_OK',\n",
       " 'F_TEST',\n",
       " 'F_TLOCK',\n",
       " 'F_ULOCK',\n",
       " 'MutableMapping',\n",
       " 'NGROUPS_MAX',\n",
       " 'O_ACCMODE',\n",
       " 'O_APPEND',\n",
       " 'O_ASYNC',\n",
       " 'O_CLOEXEC',\n",
       " 'O_CREAT',\n",
       " 'O_DIRECT',\n",
       " 'O_DIRECTORY',\n",
       " 'O_DSYNC',\n",
       " 'O_EXCL',\n",
       " 'O_LARGEFILE',\n",
       " 'O_NDELAY',\n",
       " 'O_NOATIME',\n",
       " 'O_NOCTTY',\n",
       " 'O_NOFOLLOW',\n",
       " 'O_NONBLOCK',\n",
       " 'O_RDONLY',\n",
       " 'O_RDWR',\n",
       " 'O_RSYNC',\n",
       " 'O_SYNC',\n",
       " 'O_TRUNC',\n",
       " 'O_WRONLY',\n",
       " 'POSIX_FADV_DONTNEED',\n",
       " 'POSIX_FADV_NOREUSE',\n",
       " 'POSIX_FADV_NORMAL',\n",
       " 'POSIX_FADV_RANDOM',\n",
       " 'POSIX_FADV_SEQUENTIAL',\n",
       " 'POSIX_FADV_WILLNEED',\n",
       " 'PRIO_PGRP',\n",
       " 'PRIO_PROCESS',\n",
       " 'PRIO_USER',\n",
       " 'P_ALL',\n",
       " 'P_NOWAIT',\n",
       " 'P_NOWAITO',\n",
       " 'P_PGID',\n",
       " 'P_PID',\n",
       " 'P_WAIT',\n",
       " 'PathLike',\n",
       " 'RTLD_DEEPBIND',\n",
       " 'RTLD_GLOBAL',\n",
       " 'RTLD_LAZY',\n",
       " 'RTLD_LOCAL',\n",
       " 'RTLD_NODELETE',\n",
       " 'RTLD_NOLOAD',\n",
       " 'RTLD_NOW',\n",
       " 'R_OK',\n",
       " 'SCHED_BATCH',\n",
       " 'SCHED_FIFO',\n",
       " 'SCHED_IDLE',\n",
       " 'SCHED_OTHER',\n",
       " 'SCHED_RESET_ON_FORK',\n",
       " 'SCHED_RR',\n",
       " 'SEEK_CUR',\n",
       " 'SEEK_END',\n",
       " 'SEEK_SET',\n",
       " 'ST_APPEND',\n",
       " 'ST_MANDLOCK',\n",
       " 'ST_NOATIME',\n",
       " 'ST_NODEV',\n",
       " 'ST_NODIRATIME',\n",
       " 'ST_NOEXEC',\n",
       " 'ST_NOSUID',\n",
       " 'ST_RDONLY',\n",
       " 'ST_RELATIME',\n",
       " 'ST_SYNCHRONOUS',\n",
       " 'ST_WRITE',\n",
       " 'TMP_MAX',\n",
       " 'WCONTINUED',\n",
       " 'WCOREDUMP',\n",
       " 'WEXITED',\n",
       " 'WEXITSTATUS',\n",
       " 'WIFCONTINUED',\n",
       " 'WIFEXITED',\n",
       " 'WIFSIGNALED',\n",
       " 'WIFSTOPPED',\n",
       " 'WNOHANG',\n",
       " 'WNOWAIT',\n",
       " 'WSTOPPED',\n",
       " 'WSTOPSIG',\n",
       " 'WTERMSIG',\n",
       " 'WUNTRACED',\n",
       " 'W_OK',\n",
       " 'XATTR_CREATE',\n",
       " 'XATTR_REPLACE',\n",
       " 'XATTR_SIZE_MAX',\n",
       " 'X_OK',\n",
       " '_Environ',\n",
       " '__all__',\n",
       " '__builtins__',\n",
       " '__cached__',\n",
       " '__doc__',\n",
       " '__file__',\n",
       " '__loader__',\n",
       " '__name__',\n",
       " '__package__',\n",
       " '__spec__',\n",
       " '_execvpe',\n",
       " '_exists',\n",
       " '_exit',\n",
       " '_fspath',\n",
       " '_fwalk',\n",
       " '_get_exports_list',\n",
       " '_putenv',\n",
       " '_spawnvef',\n",
       " '_unsetenv',\n",
       " '_wrap_close',\n",
       " 'abc',\n",
       " 'abort',\n",
       " 'access',\n",
       " 'altsep',\n",
       " 'chdir',\n",
       " 'chmod',\n",
       " 'chown',\n",
       " 'chroot',\n",
       " 'close',\n",
       " 'closerange',\n",
       " 'confstr',\n",
       " 'confstr_names',\n",
       " 'cpu_count',\n",
       " 'ctermid',\n",
       " 'curdir',\n",
       " 'defpath',\n",
       " 'device_encoding',\n",
       " 'devnull',\n",
       " 'dup',\n",
       " 'dup2',\n",
       " 'environ',\n",
       " 'environb',\n",
       " 'error',\n",
       " 'execl',\n",
       " 'execle',\n",
       " 'execlp',\n",
       " 'execlpe',\n",
       " 'execv',\n",
       " 'execve',\n",
       " 'execvp',\n",
       " 'execvpe',\n",
       " 'extsep',\n",
       " 'fchdir',\n",
       " 'fchmod',\n",
       " 'fchown',\n",
       " 'fdatasync',\n",
       " 'fdopen',\n",
       " 'fork',\n",
       " 'forkpty',\n",
       " 'fpathconf',\n",
       " 'fsdecode',\n",
       " 'fsencode',\n",
       " 'fspath',\n",
       " 'fstat',\n",
       " 'fstatvfs',\n",
       " 'fsync',\n",
       " 'ftruncate',\n",
       " 'fwalk',\n",
       " 'get_blocking',\n",
       " 'get_exec_path',\n",
       " 'get_inheritable',\n",
       " 'get_terminal_size',\n",
       " 'getcwd',\n",
       " 'getcwdb',\n",
       " 'getegid',\n",
       " 'getenv',\n",
       " 'getenvb',\n",
       " 'geteuid',\n",
       " 'getgid',\n",
       " 'getgrouplist',\n",
       " 'getgroups',\n",
       " 'getloadavg',\n",
       " 'getlogin',\n",
       " 'getpgid',\n",
       " 'getpgrp',\n",
       " 'getpid',\n",
       " 'getppid',\n",
       " 'getpriority',\n",
       " 'getresgid',\n",
       " 'getresuid',\n",
       " 'getsid',\n",
       " 'getuid',\n",
       " 'getxattr',\n",
       " 'initgroups',\n",
       " 'isatty',\n",
       " 'kill',\n",
       " 'killpg',\n",
       " 'lchown',\n",
       " 'linesep',\n",
       " 'link',\n",
       " 'listdir',\n",
       " 'listxattr',\n",
       " 'lockf',\n",
       " 'lseek',\n",
       " 'lstat',\n",
       " 'major',\n",
       " 'makedev',\n",
       " 'makedirs',\n",
       " 'minor',\n",
       " 'mkdir',\n",
       " 'mkfifo',\n",
       " 'mknod',\n",
       " 'name',\n",
       " 'nice',\n",
       " 'open',\n",
       " 'openpty',\n",
       " 'pardir',\n",
       " 'path',\n",
       " 'pathconf',\n",
       " 'pathconf_names',\n",
       " 'pathsep',\n",
       " 'pipe',\n",
       " 'pipe2',\n",
       " 'popen',\n",
       " 'posix_fadvise',\n",
       " 'posix_fallocate',\n",
       " 'pread',\n",
       " 'preadv',\n",
       " 'putenv',\n",
       " 'pwrite',\n",
       " 'pwritev',\n",
       " 'read',\n",
       " 'readlink',\n",
       " 'readv',\n",
       " 'register_at_fork',\n",
       " 'remove',\n",
       " 'removedirs',\n",
       " 'removexattr',\n",
       " 'rename',\n",
       " 'renames',\n",
       " 'replace',\n",
       " 'rmdir',\n",
       " 'scandir',\n",
       " 'sched_get_priority_max',\n",
       " 'sched_get_priority_min',\n",
       " 'sched_getaffinity',\n",
       " 'sched_getparam',\n",
       " 'sched_getscheduler',\n",
       " 'sched_param',\n",
       " 'sched_rr_get_interval',\n",
       " 'sched_setaffinity',\n",
       " 'sched_setparam',\n",
       " 'sched_setscheduler',\n",
       " 'sched_yield',\n",
       " 'sendfile',\n",
       " 'sep',\n",
       " 'set_blocking',\n",
       " 'set_inheritable',\n",
       " 'setegid',\n",
       " 'seteuid',\n",
       " 'setgid',\n",
       " 'setgroups',\n",
       " 'setpgid',\n",
       " 'setpgrp',\n",
       " 'setpriority',\n",
       " 'setregid',\n",
       " 'setresgid',\n",
       " 'setresuid',\n",
       " 'setreuid',\n",
       " 'setsid',\n",
       " 'setuid',\n",
       " 'setxattr',\n",
       " 'spawnl',\n",
       " 'spawnle',\n",
       " 'spawnlp',\n",
       " 'spawnlpe',\n",
       " 'spawnv',\n",
       " 'spawnve',\n",
       " 'spawnvp',\n",
       " 'spawnvpe',\n",
       " 'st',\n",
       " 'stat',\n",
       " 'stat_result',\n",
       " 'statvfs',\n",
       " 'statvfs_result',\n",
       " 'strerror',\n",
       " 'supports_bytes_environ',\n",
       " 'supports_dir_fd',\n",
       " 'supports_effective_ids',\n",
       " 'supports_fd',\n",
       " 'supports_follow_symlinks',\n",
       " 'symlink',\n",
       " 'sync',\n",
       " 'sys',\n",
       " 'sysconf',\n",
       " 'sysconf_names',\n",
       " 'system',\n",
       " 'tcgetpgrp',\n",
       " 'tcsetpgrp',\n",
       " 'terminal_size',\n",
       " 'times',\n",
       " 'times_result',\n",
       " 'truncate',\n",
       " 'ttyname',\n",
       " 'umask',\n",
       " 'uname',\n",
       " 'uname_result',\n",
       " 'unlink',\n",
       " 'unsetenv',\n",
       " 'urandom',\n",
       " 'utime',\n",
       " 'wait',\n",
       " 'wait3',\n",
       " 'wait4',\n",
       " 'waitid',\n",
       " 'waitid_result',\n",
       " 'waitpid',\n",
       " 'walk',\n",
       " 'write',\n",
       " 'writev']"
      ]
     },
     "execution_count": 11,
     "metadata": {},
     "output_type": "execute_result"
    }
   ],
   "source": [
    "dir(os)\n",
    "#dir(os.path)"
   ]
  },
  {
   "cell_type": "code",
   "execution_count": 13,
   "metadata": {},
   "outputs": [],
   "source": [
    "laz_files = [file for file in os.listdir(laz_dir) if os.path.isfile(os.path.join(laz_dir, file))]"
   ]
  },
  {
   "cell_type": "code",
   "execution_count": 14,
   "metadata": {},
   "outputs": [
    {
     "data": {
      "text/plain": [
       "'/media/thistle/Passport/gis/Idaho_Springs/lidar_downloads/USGS_LPC_CO_SoPlatteRiver_Lot5_2013_13SDD459398_LAS_2015.laz'"
      ]
     },
     "execution_count": 14,
     "metadata": {},
     "output_type": "execute_result"
    }
   ],
   "source": [
    "f0 = os.path.join(laz_dir, laz_files[0])\n",
    "f0"
   ]
  },
  {
   "cell_type": "code",
   "execution_count": 15,
   "metadata": {},
   "outputs": [],
   "source": [
    "#!pdal info $f0 --metadata"
   ]
  },
  {
   "cell_type": "code",
   "execution_count": 16,
   "metadata": {},
   "outputs": [],
   "source": [
    "res = !pdal info $f0 | jq .stats.bbox.native.bbox"
   ]
  },
  {
   "cell_type": "code",
   "execution_count": 17,
   "metadata": {},
   "outputs": [
    {
     "data": {
      "text/plain": [
       "['{',\n",
       " '  \"maxx\": 460499.99,',\n",
       " '  \"maxy\": 4399499.99,',\n",
       " '  \"maxz\": 3920.4,',\n",
       " '  \"minx\": 459000.01,',\n",
       " '  \"miny\": 4398000,',\n",
       " '  \"minz\": 2238.73',\n",
       " '}']"
      ]
     },
     "execution_count": 17,
     "metadata": {},
     "output_type": "execute_result"
    }
   ],
   "source": [
    "res"
   ]
  },
  {
   "cell_type": "code",
   "execution_count": 18,
   "metadata": {},
   "outputs": [
    {
     "data": {
      "text/plain": [
       "IPython.utils.text.SList"
      ]
     },
     "execution_count": 18,
     "metadata": {},
     "output_type": "execute_result"
    }
   ],
   "source": [
    "type(res)"
   ]
  },
  {
   "cell_type": "code",
   "execution_count": 19,
   "metadata": {},
   "outputs": [
    {
     "data": {
      "text/plain": [
       "'{\\n  \"maxx\": 460499.99,\\n  \"maxy\": 4399499.99,\\n  \"maxz\": 3920.4,\\n  \"minx\": 459000.01,\\n  \"miny\": 4398000,\\n  \"minz\": 2238.73\\n}'"
      ]
     },
     "execution_count": 19,
     "metadata": {},
     "output_type": "execute_result"
    }
   ],
   "source": [
    "r = res.nlstr\n",
    "r"
   ]
  },
  {
   "cell_type": "code",
   "execution_count": 20,
   "metadata": {},
   "outputs": [],
   "source": [
    "z = json.loads(r)"
   ]
  },
  {
   "cell_type": "code",
   "execution_count": 21,
   "metadata": {},
   "outputs": [
    {
     "data": {
      "text/plain": [
       "dict"
      ]
     },
     "execution_count": 21,
     "metadata": {},
     "output_type": "execute_result"
    }
   ],
   "source": [
    "type(z)"
   ]
  },
  {
   "cell_type": "code",
   "execution_count": 22,
   "metadata": {},
   "outputs": [],
   "source": [
    "# lets make a shapefile with a shape of each bounding box for each laz file\n",
    "# store gis data in ../data/gis/"
   ]
  },
  {
   "cell_type": "code",
   "execution_count": 23,
   "metadata": {},
   "outputs": [
    {
     "name": "stdout",
     "output_type": "stream",
     "text": [
      "pass\n"
     ]
    }
   ],
   "source": [
    "fp = \"../data/gis/\"\n",
    "if not os.path.isdir(fp):\n",
    "    os.mkdir(fp)\n",
    "    print(\"directory made\")\n",
    "else: print(\"pass\")"
   ]
  },
  {
   "cell_type": "code",
   "execution_count": 24,
   "metadata": {},
   "outputs": [],
   "source": [
    "def make_poly(bbox):\n",
    "    # bbox is a dictionary with the following keys\n",
    "    poly = Polygon([(bbox[\"maxx\"], bbox['maxy']), (bbox[\"maxx\"], bbox['miny']), (bbox[\"minx\"], bbox['miny']), (bbox[\"minx\"], bbox['maxy']), (bbox[\"maxx\"], bbox['maxy'])])\n",
    "    return poly"
   ]
  },
  {
   "cell_type": "code",
   "execution_count": 28,
   "metadata": {},
   "outputs": [],
   "source": [
    "t = make_poly(z)\n",
    "str(t)\n",
    "# looks good\n"
   ]
  },
  {
   "cell_type": "code",
   "execution_count": 27,
   "metadata": {},
   "outputs": [
    {
     "data": {
      "text/plain": [
       "'POLYGON ((460499.99 4399499.99, 460499.99 4398000, 459000.01 4398000, 459000.01 4399499.99, 460499.99 4399499.99))'"
      ]
     },
     "execution_count": 27,
     "metadata": {},
     "output_type": "execute_result"
    }
   ],
   "source": []
  },
  {
   "cell_type": "raw",
   "metadata": {},
   "source": [
    "is_crs = from_epsg(26913)\n",
    "shapefile_fp = os.path.join(fp, \"is_laz_tiles.shp\")\n",
    "schema = {\"geometry\": \"Polygon\", \"properties\": OrderedDict([(\"id\", \"int\")])}\n",
    "\n",
    "id_count=0\n",
    "\n",
    "with fiona.open(shapefile_fp, \"w\", driver=\"ESRI Shapefile\", crs=is_crs, schema=schema) as out:\n",
    "    for file in files2:\n",
    "        temp = os.path.join(laz_dir, file)\n",
    "        result = !pdal info $temp | jq .stats.bbox.native.bbox\n",
    "        res = result.nlstr # see Ipython bash output # for hint see type(result)\n",
    "        bbox = json.loads(res) # our dict(bbox)\n",
    "        poly = make_poly(bbox)\n",
    "        out.write({\n",
    "            \"geometry\": mapping(poly),\n",
    "            \"properties\":{\"id\":id_count}})\n",
    "        id_count += 1\n",
    "        print(f\"{id_count} shapes written\")"
   ]
  },
  {
   "cell_type": "code",
   "execution_count": null,
   "metadata": {},
   "outputs": [],
   "source": []
  },
  {
   "cell_type": "code",
   "execution_count": null,
   "metadata": {},
   "outputs": [],
   "source": [
    "##########\n",
    "## below is experiments\n",
    "## what is size of original laz files"
   ]
  },
  {
   "cell_type": "code",
   "execution_count": 29,
   "metadata": {},
   "outputs": [],
   "source": [
    "# f0 already defined\n",
    "f1 = os.path.join(laz_dir, laz_files[1])\n",
    "f2 = os.path.join(laz_dir, laz_files[2])"
   ]
  },
  {
   "cell_type": "code",
   "execution_count": null,
   "metadata": {},
   "outputs": [],
   "source": []
  },
  {
   "cell_type": "code",
   "execution_count": 44,
   "metadata": {},
   "outputs": [
    {
     "data": {
      "text/plain": [
       "10830010.0"
      ]
     },
     "execution_count": 44,
     "metadata": {},
     "output_type": "execute_result"
    }
   ],
   "source": [
    "c0 = !pdal info $f0 --metadata | jq .metadata.count\n",
    "c1 = !pdal info $f1 --metadata | jq .metadata.count\n",
    "c2 = !pdal info $f2 --metadata | jq .metadata.count\n",
    "cs = []\n",
    "\n",
    "cs.append(c0[0]); cs.append(c1[0]); cs.append(c2[0])\n",
    "cs = [int(num) for num in cs]\n",
    "avg = sum(cs)/len(cs)\n",
    "avg"
   ]
  },
  {
   "cell_type": "code",
   "execution_count": 45,
   "metadata": {},
   "outputs": [],
   "source": [
    "# use qgis to pick 3 sites of interest\n",
    "# they are now stored in the shapefile sites.shp located at\n",
    "# /home/thistle/Documents/dev/ML/idaho1/data/gis/sites_of_interest/sites.shp"
   ]
  },
  {
   "cell_type": "code",
   "execution_count": 52,
   "metadata": {},
   "outputs": [],
   "source": [
    "sites_fp = \"/home/thistle/Documents/dev/ML/idaho1/data/gis/sites_of_interest/sites.shp\"\n",
    "output_file = \"/media/thistle/Passport/gis/Idaho_Springs/lidar_downloads/outputs/bigLaz.laz\""
   ]
  },
  {
   "cell_type": "code",
   "execution_count": 58,
   "metadata": {},
   "outputs": [
    {
     "data": {
      "text/plain": [
       "['/media/thistle/Passport/gis/Idaho_Springs/lidar_downloads/USGS_LPC_CO_SoPlatteRiver_Lot5_2013_13SDD459398_LAS_2015.laz',\n",
       " '/media/thistle/Passport/gis/Idaho_Springs/lidar_downloads/USGS_LPC_CO_SoPlatteRiver_Lot5_2013_13SDD459399_LAS_2015.laz',\n",
       " '/media/thistle/Passport/gis/Idaho_Springs/lidar_downloads/USGS_LPC_CO_SoPlatteRiver_Lot5_2013_13SDD460398_LAS_2015.laz',\n",
       " '/media/thistle/Passport/gis/Idaho_Springs/lidar_downloads/USGS_LPC_CO_SoPlatteRiver_Lot5_2013_13SDD460399_LAS_2015.laz',\n",
       " '/media/thistle/Passport/gis/Idaho_Springs/lidar_downloads/USGS_LPC_CO_SoPlatteRiver_Lot5_2013_13SDD462398_LAS_2015.laz',\n",
       " '/media/thistle/Passport/gis/Idaho_Springs/lidar_downloads/USGS_LPC_CO_SoPlatteRiver_Lot5_2013_13SDD462399_LAS_2015.laz']"
      ]
     },
     "execution_count": 58,
     "metadata": {},
     "output_type": "execute_result"
    }
   ],
   "source": [
    "# add full path to laz_files\n",
    "full_laz_files = [os.path.join(laz_dir, each) for each in laz_files]\n",
    "full_laz_files"
   ]
  },
  {
   "cell_type": "code",
   "execution_count": 59,
   "metadata": {},
   "outputs": [
    {
     "data": {
      "text/plain": [
       "True"
      ]
     },
     "execution_count": 59,
     "metadata": {},
     "output_type": "execute_result"
    }
   ],
   "source": [
    "# task one -- make dems and 4 hillshades for each site\n",
    "\n",
    "# make one big laz- why?\n",
    "# for each cropped polygon dont need to redo it\n",
    "pipeline = {\n",
    "    \"pipeline\":[\n",
    "        full_laz_files[0],\n",
    "        full_laz_files[1],\n",
    "        full_laz_files[2],\n",
    "        full_laz_files[3],\n",
    "        full_laz_files[4],\n",
    "        full_laz_files[5],\n",
    "        {\n",
    "            \"type\":\"filters.merge\"\n",
    "        },\n",
    "        {\n",
    "            \"type\":\"writers.las\",\n",
    "            \"compression\":\"laszip\",\n",
    "            \"filename\":output_file\n",
    "        }\n",
    "    ]\n",
    "}\n",
    "p1 = pdal.Pipeline(json.dumps(pipeline))\n",
    "\n",
    "p1.validate()"
   ]
  },
  {
   "cell_type": "code",
   "execution_count": 60,
   "metadata": {},
   "outputs": [
    {
     "name": "stdout",
     "output_type": "stream",
     "text": [
      "63241360 processed\n",
      "CPU times: user 1min 13s, sys: 1.53 s, total: 1min 14s\n",
      "Wall time: 1min 18s\n"
     ]
    }
   ],
   "source": [
    "%%time\n",
    "numpts = p1.execute()\n",
    "print(f\"{numpts} processed\")"
   ]
  },
  {
   "cell_type": "code",
   "execution_count": 61,
   "metadata": {},
   "outputs": [
    {
     "data": {
      "text/plain": [
       "'/media/thistle/Passport/gis/Idaho_Springs/lidar_downloads/outputs/bigLaz.laz'"
      ]
     },
     "execution_count": 61,
     "metadata": {},
     "output_type": "execute_result"
    }
   ],
   "source": [
    "output_file"
   ]
  },
  {
   "cell_type": "code",
   "execution_count": 63,
   "metadata": {},
   "outputs": [
    {
     "name": "stdout",
     "output_type": "stream",
     "text": [
      "{\r\n",
      "  \"filename\": \"/media/thistle/Passport/gis/Idaho_Springs/lidar_downloads/outputs/bigLaz.laz\",\r\n",
      "  \"metadata\":\r\n",
      "  {\r\n",
      "    \"comp_spatialreference\": \"COMPD_CS[\\\"unknown\\\",PROJCS[\\\"NAD83 / UTM zone 13N\\\",GEOGCS[\\\"NAD83\\\",DATUM[\\\"North_American_Datum_1983\\\",SPHEROID[\\\"GRS 1980\\\",6378137,298.257222101,AUTHORITY[\\\"EPSG\\\",\\\"7019\\\"]],AUTHORITY[\\\"EPSG\\\",\\\"6269\\\"]],PRIMEM[\\\"Greenwich\\\",0,AUTHORITY[\\\"EPSG\\\",\\\"8901\\\"]],UNIT[\\\"degree\\\",0.0174532925199433,AUTHORITY[\\\"EPSG\\\",\\\"9122\\\"]],AUTHORITY[\\\"EPSG\\\",\\\"4269\\\"]],PROJECTION[\\\"Transverse_Mercator\\\"],PARAMETER[\\\"latitude_of_origin\\\",0],PARAMETER[\\\"central_meridian\\\",-105],PARAMETER[\\\"scale_factor\\\",0.9996],PARAMETER[\\\"false_easting\\\",500000],PARAMETER[\\\"false_northing\\\",0],UNIT[\\\"metre\\\",1,AUTHORITY[\\\"EPSG\\\",\\\"9001\\\"]],AXIS[\\\"Easting\\\",EAST],AXIS[\\\"Northing\\\",NORTH],AUTHORITY[\\\"EPSG\\\",\\\"26913\\\"]],VERT_CS[\\\"NAVD88 height\\\",VERT_DATUM[\\\"North American Vertical Datum 1988\\\",2005,AUTHORITY[\\\"EPSG\\\",\\\"5103\\\"]],UNIT[\\\"metre\\\",1,AUTHORITY[\\\"EPSG\\\",\\\"9001\\\"]],AXIS[\\\"Gravity-related height\\\",UP],AUTHORITY[\\\"EPSG\\\",\\\"5703\\\"]]]\",\r\n",
      "    \"compressed\": true,\r\n",
      "    \"count\": 63241360,\r\n",
      "    \"creation_doy\": 132,\r\n",
      "    \"creation_year\": 2020,\r\n",
      "    \"dataformat_id\": 3,\r\n",
      "    \"dataoffset\": 566,\r\n",
      "    \"filesource_id\": 58982,\r\n",
      "    \"global_encoding\": 0,\r\n",
      "    \"global_encoding_base64\": \"AAA=\",\r\n",
      "    \"header_size\": 227,\r\n",
      "    \"major_version\": 1,\r\n",
      "    \"maxx\": 463499.99,\r\n",
      "    \"maxy\": 4401000,\r\n",
      "    \"maxz\": 4226.67,\r\n",
      "    \"minor_version\": 2,\r\n",
      "    \"minx\": 459000.01,\r\n",
      "    \"miny\": 4398000,\r\n",
      "    \"minz\": 2176.25,\r\n",
      "    \"offset_x\": 0,\r\n",
      "    \"offset_y\": 0,\r\n",
      "    \"offset_z\": 0,\r\n",
      "    \"point_length\": 34,\r\n",
      "    \"project_id\": \"00000000-0000-0000-0000-000000000000\",\r\n",
      "    \"scale_x\": 0.01,\r\n",
      "    \"scale_y\": 0.01,\r\n",
      "    \"scale_z\": 0.01,\r\n",
      "    \"software_id\": \"PDAL 2.0.1 (6600e6)\",\r\n",
      "    \"spatialreference\": \"COMPD_CS[\\\"unknown\\\",PROJCS[\\\"NAD83 / UTM zone 13N\\\",GEOGCS[\\\"NAD83\\\",DATUM[\\\"North_American_Datum_1983\\\",SPHEROID[\\\"GRS 1980\\\",6378137,298.257222101,AUTHORITY[\\\"EPSG\\\",\\\"7019\\\"]],AUTHORITY[\\\"EPSG\\\",\\\"6269\\\"]],PRIMEM[\\\"Greenwich\\\",0,AUTHORITY[\\\"EPSG\\\",\\\"8901\\\"]],UNIT[\\\"degree\\\",0.0174532925199433,AUTHORITY[\\\"EPSG\\\",\\\"9122\\\"]],AUTHORITY[\\\"EPSG\\\",\\\"4269\\\"]],PROJECTION[\\\"Transverse_Mercator\\\"],PARAMETER[\\\"latitude_of_origin\\\",0],PARAMETER[\\\"central_meridian\\\",-105],PARAMETER[\\\"scale_factor\\\",0.9996],PARAMETER[\\\"false_easting\\\",500000],PARAMETER[\\\"false_northing\\\",0],UNIT[\\\"metre\\\",1,AUTHORITY[\\\"EPSG\\\",\\\"9001\\\"]],AXIS[\\\"Easting\\\",EAST],AXIS[\\\"Northing\\\",NORTH],AUTHORITY[\\\"EPSG\\\",\\\"26913\\\"]],VERT_CS[\\\"NAVD88 height\\\",VERT_DATUM[\\\"North American Vertical Datum 1988\\\",2005,AUTHORITY[\\\"EPSG\\\",\\\"5103\\\"]],UNIT[\\\"metre\\\",1,AUTHORITY[\\\"EPSG\\\",\\\"9001\\\"]],AXIS[\\\"Gravity-related height\\\",UP],AUTHORITY[\\\"EPSG\\\",\\\"5703\\\"]]]\",\r\n",
      "    \"srs\":\r\n",
      "    {\r\n",
      "      \"compoundwkt\": \"COMPD_CS[\\\"unknown\\\",PROJCS[\\\"NAD83 / UTM zone 13N\\\",GEOGCS[\\\"NAD83\\\",DATUM[\\\"North_American_Datum_1983\\\",SPHEROID[\\\"GRS 1980\\\",6378137,298.257222101,AUTHORITY[\\\"EPSG\\\",\\\"7019\\\"]],AUTHORITY[\\\"EPSG\\\",\\\"6269\\\"]],PRIMEM[\\\"Greenwich\\\",0,AUTHORITY[\\\"EPSG\\\",\\\"8901\\\"]],UNIT[\\\"degree\\\",0.0174532925199433,AUTHORITY[\\\"EPSG\\\",\\\"9122\\\"]],AUTHORITY[\\\"EPSG\\\",\\\"4269\\\"]],PROJECTION[\\\"Transverse_Mercator\\\"],PARAMETER[\\\"latitude_of_origin\\\",0],PARAMETER[\\\"central_meridian\\\",-105],PARAMETER[\\\"scale_factor\\\",0.9996],PARAMETER[\\\"false_easting\\\",500000],PARAMETER[\\\"false_northing\\\",0],UNIT[\\\"metre\\\",1,AUTHORITY[\\\"EPSG\\\",\\\"9001\\\"]],AXIS[\\\"Easting\\\",EAST],AXIS[\\\"Northing\\\",NORTH],AUTHORITY[\\\"EPSG\\\",\\\"26913\\\"]],VERT_CS[\\\"NAVD88 height\\\",VERT_DATUM[\\\"North American Vertical Datum 1988\\\",2005,AUTHORITY[\\\"EPSG\\\",\\\"5103\\\"]],UNIT[\\\"metre\\\",1,AUTHORITY[\\\"EPSG\\\",\\\"9001\\\"]],AXIS[\\\"Gravity-related height\\\",UP],AUTHORITY[\\\"EPSG\\\",\\\"5703\\\"]]]\",\r\n",
      "      \"horizontal\": \"PROJCS[\\\"NAD83 / UTM zone 13N\\\",GEOGCS[\\\"NAD83\\\",DATUM[\\\"North_American_Datum_1983\\\",SPHEROID[\\\"GRS 1980\\\",6378137,298.257222101,AUTHORITY[\\\"EPSG\\\",\\\"7019\\\"]],AUTHORITY[\\\"EPSG\\\",\\\"6269\\\"]],PRIMEM[\\\"Greenwich\\\",0,AUTHORITY[\\\"EPSG\\\",\\\"8901\\\"]],UNIT[\\\"degree\\\",0.0174532925199433,AUTHORITY[\\\"EPSG\\\",\\\"9122\\\"]],AUTHORITY[\\\"EPSG\\\",\\\"4269\\\"]],PROJECTION[\\\"Transverse_Mercator\\\"],PARAMETER[\\\"latitude_of_origin\\\",0],PARAMETER[\\\"central_meridian\\\",-105],PARAMETER[\\\"scale_factor\\\",0.9996],PARAMETER[\\\"false_easting\\\",500000],PARAMETER[\\\"false_northing\\\",0],UNIT[\\\"metre\\\",1,AUTHORITY[\\\"EPSG\\\",\\\"9001\\\"]],AXIS[\\\"Easting\\\",EAST],AXIS[\\\"Northing\\\",NORTH],AUTHORITY[\\\"EPSG\\\",\\\"26913\\\"]]\",\r\n",
      "      \"isgeocentric\": false,\r\n",
      "      \"isgeographic\": false,\r\n",
      "      \"prettycompoundwkt\": \"COMPD_CS[\\\"unknown\\\",\\n    PROJCS[\\\"NAD83 / UTM zone 13N\\\",\\n        GEOGCS[\\\"NAD83\\\",\\n            DATUM[\\\"North_American_Datum_1983\\\",\\n                SPHEROID[\\\"GRS 1980\\\",6378137,298.257222101,\\n                    AUTHORITY[\\\"EPSG\\\",\\\"7019\\\"]],\\n                AUTHORITY[\\\"EPSG\\\",\\\"6269\\\"]],\\n            PRIMEM[\\\"Greenwich\\\",0,\\n                AUTHORITY[\\\"EPSG\\\",\\\"8901\\\"]],\\n            UNIT[\\\"degree\\\",0.0174532925199433,\\n                AUTHORITY[\\\"EPSG\\\",\\\"9122\\\"]],\\n            AUTHORITY[\\\"EPSG\\\",\\\"4269\\\"]],\\n        PROJECTION[\\\"Transverse_Mercator\\\"],\\n        PARAMETER[\\\"latitude_of_origin\\\",0],\\n        PARAMETER[\\\"central_meridian\\\",-105],\\n        PARAMETER[\\\"scale_factor\\\",0.9996],\\n        PARAMETER[\\\"false_easting\\\",500000],\\n        PARAMETER[\\\"false_northing\\\",0],\\n        UNIT[\\\"metre\\\",1,\\n            AUTHORITY[\\\"EPSG\\\",\\\"9001\\\"]],\\n        AXIS[\\\"Easting\\\",EAST],\\n        AXIS[\\\"Northing\\\",NORTH],\\n        AUTHORITY[\\\"EPSG\\\",\\\"26913\\\"]],\\n    VERT_CS[\\\"NAVD88 height\\\",\\n        VERT_DATUM[\\\"North American Vertical Datum 1988\\\",2005,\\n            AUTHORITY[\\\"EPSG\\\",\\\"5103\\\"]],\\n        UNIT[\\\"metre\\\",1,\\n            AUTHORITY[\\\"EPSG\\\",\\\"9001\\\"]],\\n        AXIS[\\\"Gravity-related height\\\",UP],\\n        AUTHORITY[\\\"EPSG\\\",\\\"5703\\\"]]]\",\r\n",
      "      \"prettywkt\": \"PROJCS[\\\"NAD83 / UTM zone 13N\\\",\\n    GEOGCS[\\\"NAD83\\\",\\n        DATUM[\\\"North_American_Datum_1983\\\",\\n            SPHEROID[\\\"GRS 1980\\\",6378137,298.257222101,\\n                AUTHORITY[\\\"EPSG\\\",\\\"7019\\\"]],\\n            AUTHORITY[\\\"EPSG\\\",\\\"6269\\\"]],\\n        PRIMEM[\\\"Greenwich\\\",0,\\n            AUTHORITY[\\\"EPSG\\\",\\\"8901\\\"]],\\n        UNIT[\\\"degree\\\",0.0174532925199433,\\n            AUTHORITY[\\\"EPSG\\\",\\\"9122\\\"]],\\n        AUTHORITY[\\\"EPSG\\\",\\\"4269\\\"]],\\n    PROJECTION[\\\"Transverse_Mercator\\\"],\\n    PARAMETER[\\\"latitude_of_origin\\\",0],\\n    PARAMETER[\\\"central_meridian\\\",-105],\\n    PARAMETER[\\\"scale_factor\\\",0.9996],\\n    PARAMETER[\\\"false_easting\\\",500000],\\n    PARAMETER[\\\"false_northing\\\",0],\\n    UNIT[\\\"metre\\\",1,\\n        AUTHORITY[\\\"EPSG\\\",\\\"9001\\\"]],\\n    AXIS[\\\"Easting\\\",EAST],\\n    AXIS[\\\"Northing\\\",NORTH],\\n    AUTHORITY[\\\"EPSG\\\",\\\"26913\\\"]]\",\r\n",
      "      \"proj4\": \"+proj=utm +zone=13 +datum=NAD83 +units=m +vunits=m +no_defs\",\r\n",
      "      \"units\":\r\n",
      "      {\r\n",
      "        \"horizontal\": \"metre\",\r\n",
      "        \"vertical\": \"metre\"\r\n",
      "      },\r\n",
      "      \"vertical\": \"VERT_CS[\\\"NAVD88 height\\\",VERT_DATUM[\\\"North American Vertical Datum 1988\\\",2005,AUTHORITY[\\\"EPSG\\\",\\\"5103\\\"]],UNIT[\\\"metre\\\",1,AUTHORITY[\\\"EPSG\\\",\\\"9001\\\"]],AXIS[\\\"Gravity-related height\\\",UP],AUTHORITY[\\\"EPSG\\\",\\\"5703\\\"]]\",\r\n",
      "      \"wkt\": \"PROJCS[\\\"NAD83 / UTM zone 13N\\\",GEOGCS[\\\"NAD83\\\",DATUM[\\\"North_American_Datum_1983\\\",SPHEROID[\\\"GRS 1980\\\",6378137,298.257222101,AUTHORITY[\\\"EPSG\\\",\\\"7019\\\"]],AUTHORITY[\\\"EPSG\\\",\\\"6269\\\"]],PRIMEM[\\\"Greenwich\\\",0,AUTHORITY[\\\"EPSG\\\",\\\"8901\\\"]],UNIT[\\\"degree\\\",0.0174532925199433,AUTHORITY[\\\"EPSG\\\",\\\"9122\\\"]],AUTHORITY[\\\"EPSG\\\",\\\"4269\\\"]],PROJECTION[\\\"Transverse_Mercator\\\"],PARAMETER[\\\"latitude_of_origin\\\",0],PARAMETER[\\\"central_meridian\\\",-105],PARAMETER[\\\"scale_factor\\\",0.9996],PARAMETER[\\\"false_easting\\\",500000],PARAMETER[\\\"false_northing\\\",0],UNIT[\\\"metre\\\",1,AUTHORITY[\\\"EPSG\\\",\\\"9001\\\"]],AXIS[\\\"Easting\\\",EAST],AXIS[\\\"Northing\\\",NORTH],AUTHORITY[\\\"EPSG\\\",\\\"26913\\\"]]\"\r\n",
      "    },\r\n",
      "    \"system_id\": \"PDAL\",\r\n",
      "    \"vlr_0\":\r\n",
      "    {\r\n",
      "      \"data\": \"AQABAAAACwAABAAAAQABAAEEAAABAAEAAgSxhwgAAAABCLGHBgAIAAYIAAABAI4jAAwAAAEAIWkEDAAAAQApIwAQAAABAEcWARCxhw4ADgACEAAAAQDvEwMQAAABACkj\",\r\n",
      "      \"description\": \"GeoTiff GeoKeyDirectoryTag\",\r\n",
      "      \"record_id\": 34735,\r\n",
      "      \"user_id\": \"LASF_Projection\"\r\n",
      "    },\r\n",
      "    \"vlr_1\":\r\n",
      "    {\r\n",
      "      \"data\": \"dW5rbm93bnxOQUQ4M3xOQVZEODggaGVpZ2h0fAA=\",\r\n",
      "      \"description\": \"GeoTiff GeoAsciiParamsTag\",\r\n",
      "      \"record_id\": 34737,\r\n",
      "      \"user_id\": \"LASF_Projection\"\r\n",
      "    },\r\n",
      "    \"vlr_2\":\r\n",
      "    {\r\n",
      "      \"data\": \"AgAAAAMEAwAAAAAAUMMAAP////////////////////8DAAYAFAACAAcACAACAAgABgACAA==\",\r\n",
      "      \"description\": \"http://laszip.org\",\r\n",
      "      \"record_id\": 22204,\r\n",
      "      \"user_id\": \"laszip encoded\"\r\n",
      "    }\r\n",
      "  },\r\n",
      "  \"pdal_version\": \"2.0.1 (git-version: 6600e6)\"\r\n",
      "}\r\n"
     ]
    }
   ],
   "source": [
    "# check size 60 million ?\n",
    "!pdal info $output_file --metadata # yup\n",
    "# so use this file for further pipelines"
   ]
  },
  {
   "cell_type": "code",
   "execution_count": 77,
   "metadata": {},
   "outputs": [],
   "source": [
    "minx = !pdal info $output_file --metadata | jq .metadata.minx\n",
    "maxx = !pdal info $output_file --metadata | jq .metadata.maxx\n",
    "\n",
    "\n",
    "miny = !pdal info $output_file --metadata | jq .metadata.miny\n",
    "maxy = !pdal info $output_file --metadata | jq .metadata.maxy\n"
   ]
  },
  {
   "cell_type": "code",
   "execution_count": 78,
   "metadata": {},
   "outputs": [],
   "source": [
    "maxy= maxy[0]\n",
    "maxx = maxx[0]\n",
    "minx = minx[0]\n",
    "miny = miny[0]"
   ]
  },
  {
   "cell_type": "code",
   "execution_count": 80,
   "metadata": {},
   "outputs": [
    {
     "data": {
      "text/plain": [
       "(4499.979999999981, 3000.0)"
      ]
     },
     "execution_count": 80,
     "metadata": {},
     "output_type": "execute_result"
    }
   ],
   "source": [
    "diff_y = float(maxy) - float(miny)\n",
    "diff_x = float(maxx) - float(minx)\n",
    "diff_x, diff_y"
   ]
  },
  {
   "cell_type": "code",
   "execution_count": null,
   "metadata": {},
   "outputs": [],
   "source": [
    "# get sites(Polygons)\n"
   ]
  },
  {
   "cell_type": "code",
   "execution_count": 117,
   "metadata": {},
   "outputs": [],
   "source": [
    "polys = [];\n",
    "with fiona.open(sites_fp, \"r\",) as f:\n",
    "    for each in f:\n",
    "        polys.append(each)"
   ]
  },
  {
   "cell_type": "code",
   "execution_count": 107,
   "metadata": {},
   "outputs": [],
   "source": [
    "a = polys[2]"
   ]
  },
  {
   "cell_type": "code",
   "execution_count": 112,
   "metadata": {},
   "outputs": [
    {
     "data": {
      "text/plain": [
       "'bridge'"
      ]
     },
     "execution_count": 112,
     "metadata": {},
     "output_type": "execute_result"
    }
   ],
   "source": [
    "a['properties']['name']"
   ]
  },
  {
   "cell_type": "code",
   "execution_count": 96,
   "metadata": {},
   "outputs": [],
   "source": [
    "p1 = Polygon(a)"
   ]
  },
  {
   "cell_type": "code",
   "execution_count": 98,
   "metadata": {},
   "outputs": [
    {
     "data": {
      "text/plain": [
       "'POLYGON ((462448.0320097281364724 4399742.9502351656556129, 462551.1302799984696321 4399477.1858051354065537, 462326.6051580764469691 4399053.3373606912791729, 461979.5076481664436869 4399214.8579841144382954, 461917.6486860042787157 4399379.8152165468782187, 462448.0320097281364724 4399742.9502351656556129))'"
      ]
     },
     "execution_count": 98,
     "metadata": {},
     "output_type": "execute_result"
    }
   ],
   "source": [
    "p1.to_wkt()"
   ]
  },
  {
   "cell_type": "code",
   "execution_count": null,
   "metadata": {},
   "outputs": [],
   "source": []
  },
  {
   "cell_type": "code",
   "execution_count": null,
   "metadata": {},
   "outputs": [],
   "source": []
  },
  {
   "cell_type": "markdown",
   "metadata": {},
   "source": [
    "for each of the areas of interest\n",
    "run a pipeline and output a clipped las\n",
    "and a dem gtif"
   ]
  },
  {
   "cell_type": "code",
   "execution_count": 138,
   "metadata": {},
   "outputs": [],
   "source": [
    "poly_tups = []\n",
    "for poly in polys:\n",
    "    name = poly['properties']['name']\n",
    "    coords = poly['geometry']['coordinates']\n",
    "    poly_tups.append((name, coords[0]))\n",
    "    \n",
    "    "
   ]
  },
  {
   "cell_type": "code",
   "execution_count": 142,
   "metadata": {},
   "outputs": [
    {
     "name": "stdout",
     "output_type": "stream",
     "text": [
      "file tunnel written\n",
      "2700540 processed\n",
      "file gulch written\n",
      "2695974 processed\n",
      "file bridge written\n",
      "1482006 processed\n",
      "CPU times: user 2min 23s, sys: 1.82 s, total: 2min 25s\n",
      "Wall time: 2min 25s\n"
     ]
    }
   ],
   "source": [
    "%%time\n",
    "output_dir = \"/media/thistle/Passport/gis/Idaho_Springs/lidar_downloads/outputs/clipped\"\n",
    "\n",
    "for each in poly_tups:\n",
    "    clipped_out_file = os.path.join(output_dir, each[0] + \".las\")\n",
    "    apoly = Polygon(each[1])\n",
    "\n",
    "    pipe = {\n",
    "        \"pipeline\":[\n",
    "            {\n",
    "                \"type\":\"readers.las\",\n",
    "                \"filename\":output_file\n",
    "            },\n",
    "            {\n",
    "                \"type\":\"filters.crop\",\n",
    "                \"polygon\": apoly.to_wkt()\n",
    "            },\n",
    "            {\n",
    "                \"type\":\"writers.las\",\n",
    "                \"filename\": clipped_out_file\n",
    "            }]}\n",
    "    pp = pdal.Pipeline(json.dumps(pipe))\n",
    "    numpts = pp.execute()\n",
    "    print(f\"file {each[0]} written\")\n",
    "    print(f\"{numpts} processed\")\n",
    "    "
   ]
  },
  {
   "cell_type": "code",
   "execution_count": null,
   "metadata": {},
   "outputs": [],
   "source": []
  },
  {
   "cell_type": "code",
   "execution_count": null,
   "metadata": {},
   "outputs": [],
   "source": [
    "# pipeline to fine ground pts for each file in a dir\n",
    "\n"
   ]
  },
  {
   "cell_type": "code",
   "execution_count": 149,
   "metadata": {},
   "outputs": [
    {
     "data": {
      "text/plain": [
       "['bridge.las', 'gulch.las', 'tunnel.las']"
      ]
     },
     "execution_count": 149,
     "metadata": {},
     "output_type": "execute_result"
    }
   ],
   "source": [
    "filenames = os.listdir(output_dir)\n",
    "filenames"
   ]
  },
  {
   "cell_type": "code",
   "execution_count": 152,
   "metadata": {},
   "outputs": [],
   "source": [
    "out_tiff_dir = \"/media/thistle/Passport/gis/Idaho_Springs/lidar_downloads/outputs/clipped/tiffs/\""
   ]
  },
  {
   "cell_type": "code",
   "execution_count": 159,
   "metadata": {},
   "outputs": [
    {
     "name": "stdout",
     "output_type": "stream",
     "text": [
      "bridge.tif written to file\n",
      "910221 processed\n",
      "gulch.tif written to file\n",
      "1507490 processed\n",
      "tunnel.tif written to file\n",
      "1755121 processed\n",
      "CPU times: user 1min 28s, sys: 273 ms, total: 1min 28s\n",
      "Wall time: 1min 28s\n"
     ]
    }
   ],
   "source": [
    "%%time\n",
    "for name in filenames:\n",
    "    site_file = os.path.join(output_dir, name)\n",
    "    # print(site_file)\n",
    "    out_file = os.path.join(out_tiff_dir, name.split(\".\")[0] + \".tif\")\n",
    "    # print(out_file)\n",
    "    pipeline2 = {\n",
    "    \"pipeline\":[\n",
    "        {\n",
    "            \"type\":\"readers.las\",\n",
    "            \"filename\":site_file\n",
    "        },\n",
    "        {  \"type\":\"filters.outlier\",\n",
    "           \"method\":\"statistical\",\n",
    "           \"mean_k\":\"8\",\n",
    "           \"multiplier\":\"3\"\n",
    "        },\n",
    "        {\n",
    "           \"type\":\"filters.smrf\"\n",
    "        },\n",
    "        {\n",
    "           \"type\":\"filters.range\",\n",
    "           \"limits\":\"Classification[2:2]\"\n",
    "        },\n",
    "        {\n",
    "           \"type\":\"filters.delaunay\"\n",
    "        },\n",
    "        {\n",
    "          \"type\": \"writers.gdal\",\n",
    "          \"gdaldriver\": \"GTIFF\",\n",
    "          \"output_type\": \"all\",\n",
    "          \"resolution\": \"2.0\",\n",
    "          \"filename\": out_file\n",
    "      }\n",
    "  ]}\n",
    "    pp = pdal.Pipeline(json.dumps(pipeline2))\n",
    "    numpts = pp.execute()\n",
    "    print(f\"{out_file.split('/')[-1]} written to file\")\n",
    "    print(f\"{numpts} processed\")\n",
    "    "
   ]
  },
  {
   "cell_type": "code",
   "execution_count": 163,
   "metadata": {},
   "outputs": [
    {
     "data": {
      "text/plain": [
       "['bridge.tif', 'gulch.tif', 'tunnel.tif']"
      ]
     },
     "execution_count": 163,
     "metadata": {},
     "output_type": "execute_result"
    }
   ],
   "source": [
    "\n",
    "tif_dir = \"/media/thistle/Passport/gis/Idaho_Springs/lidar_downloads/outputs/clipped/tiffs/\"\n",
    "files_to_hs = os.listdir(tif_dir)\n",
    "files_to_hs"
   ]
  },
  {
   "cell_type": "code",
   "execution_count": 168,
   "metadata": {},
   "outputs": [
    {
     "name": "stdout",
     "output_type": "stream",
     "text": [
      "0...10...20...30...40...50...60...70...80...90...100 - done.\n",
      "/media/thistle/Passport/gis/Idaho_Springs/lidar_downloads/outputs/clipped/tiffs/hs/bridge_hs_45.tif created\n",
      "0...10...20...30...40...50...60...70...80...90...100 - done.\n",
      "/media/thistle/Passport/gis/Idaho_Springs/lidar_downloads/outputs/clipped/tiffs/hs/bridge_hs_135.tif created\n",
      "0...10...20...30...40...50...60...70...80...90...100 - done.\n",
      "/media/thistle/Passport/gis/Idaho_Springs/lidar_downloads/outputs/clipped/tiffs/hs/bridge_hs_225.tif created\n",
      "0...10...20...30...40...50...60...70...80...90...100 - done.\n",
      "/media/thistle/Passport/gis/Idaho_Springs/lidar_downloads/outputs/clipped/tiffs/hs/bridge_hs_315.tif created\n",
      "0...10...20...30...40...50...60...70...80...90...100 - done.\n",
      "/media/thistle/Passport/gis/Idaho_Springs/lidar_downloads/outputs/clipped/tiffs/hs/gulch_hs_45.tif created\n",
      "0...10...20...30...40...50...60...70...80...90...100 - done.\n",
      "/media/thistle/Passport/gis/Idaho_Springs/lidar_downloads/outputs/clipped/tiffs/hs/gulch_hs_135.tif created\n",
      "0...10...20...30...40...50...60...70...80...90...100 - done.\n",
      "/media/thistle/Passport/gis/Idaho_Springs/lidar_downloads/outputs/clipped/tiffs/hs/gulch_hs_225.tif created\n",
      "0...10...20...30...40...50...60...70...80...90...100 - done.\n",
      "/media/thistle/Passport/gis/Idaho_Springs/lidar_downloads/outputs/clipped/tiffs/hs/gulch_hs_315.tif created\n",
      "0...10...20...30...40...50...60...70...80...90...100 - done.\n",
      "/media/thistle/Passport/gis/Idaho_Springs/lidar_downloads/outputs/clipped/tiffs/hs/tunnel_hs_45.tif created\n",
      "0...10...20...30...40...50...60...70...80...90...100 - done.\n",
      "/media/thistle/Passport/gis/Idaho_Springs/lidar_downloads/outputs/clipped/tiffs/hs/tunnel_hs_135.tif created\n",
      "0...10...20...30...40...50...60...70...80...90...100 - done.\n",
      "/media/thistle/Passport/gis/Idaho_Springs/lidar_downloads/outputs/clipped/tiffs/hs/tunnel_hs_225.tif created\n",
      "0...10...20...30...40...50...60...70...80...90...100 - done.\n",
      "/media/thistle/Passport/gis/Idaho_Springs/lidar_downloads/outputs/clipped/tiffs/hs/tunnel_hs_315.tif created\n",
      "CPU times: user 71.4 ms, sys: 675 ms, total: 746 ms\n",
      "Wall time: 3.86 s\n"
     ]
    }
   ],
   "source": [
    "%%time\n",
    "for i, tif in enumerate(files_to_hs):\n",
    "    file_in = os.path.join(tif_dir, tif)\n",
    "    #print(file_in)\n",
    "    hs_dir = \"/media/thistle/Passport/gis/Idaho_Springs/lidar_downloads/outputs/clipped/tiffs/hs\"\n",
    "    \n",
    "    #print(file_out)\n",
    "    angles = [45,135,225,315]\n",
    "    for angle in angles:\n",
    "        file_out = os.path.join(hs_dir, tif.split(\".\")[0] + \"_hs_\" + str(angle) + \".tif\")\n",
    "        !gdaldem hillshade $file_in $file_out -z 1.0 -s 1.0 -az $angle -alt 45.0 -of GTiff\n",
    "        print(f\"{file_out} created\")\n",
    "        "
   ]
  },
  {
   "cell_type": "code",
   "execution_count": 143,
   "metadata": {},
   "outputs": [],
   "source": [
    "pipeline2 = {\n",
    "    \"pipeline\":[\n",
    "        {\n",
    "            \"type\":\"readers.las\",\n",
    "            \"filename\":site_file\n",
    "        },\n",
    "        {  \"type\":\"filters.outlier\",\n",
    "           \"method\":\"statistical\",\n",
    "           \"mean_k\":\"8\",\n",
    "           \"multiplier\":\"3\"\n",
    "        },\n",
    "        {\n",
    "           \"type\":\"filters.smrf\"\n",
    "        },\n",
    "        {\n",
    "           \"type\":\"filters.range\",\n",
    "           \"limits\":\"Classification[2:2]\"\n",
    "        },\n",
    "        {\n",
    "           \"type\":\"filters.delaunay\"\n",
    "        },\n",
    "        {\n",
    "          \"type\": \"writers.gdal\",\n",
    "          \"gdaldriver\": \"GTIFF\",\n",
    "          \"output_type\": \"all\",\n",
    "          \"resolution\": \"2.0\",\n",
    "          \"filename\": out_file\n",
    "      }\n",
    "  ]}"
   ]
  },
  {
   "cell_type": "code",
   "execution_count": null,
   "metadata": {},
   "outputs": [],
   "source": []
  }
 ],
 "metadata": {
  "kernelspec": {
   "display_name": "Python 3",
   "language": "python",
   "name": "python3"
  },
  "language_info": {
   "codemirror_mode": {
    "name": "ipython",
    "version": 3
   },
   "file_extension": ".py",
   "mimetype": "text/x-python",
   "name": "python",
   "nbconvert_exporter": "python",
   "pygments_lexer": "ipython3",
   "version": "3.7.6"
  }
 },
 "nbformat": 4,
 "nbformat_minor": 4
}
