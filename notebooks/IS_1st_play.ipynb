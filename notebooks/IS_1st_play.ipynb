{
 "cells": [
  {
   "cell_type": "code",
   "execution_count": null,
   "metadata": {},
   "outputs": [],
   "source": [
    "# 1st play with Idaho Springs data\n",
    "###################################\n",
    "# problem lat/lon in wrong position"
   ]
  },
  {
   "cell_type": "markdown",
   "metadata": {},
   "source": [
    "# possible answer\n",
    "a .las file can be converted using PDAL’s writers.text module into a text file format, which in turn can be imported\n",
    "<br>\n",
    "https://www.nickmcummins.com/index.php/2017/07/27/converting-lidar-las-point-clouds-for-viewing-in-saga-gis-using-pdal/\n",
    "<br>\n",
    "https://www.nickmcummins.com/index.php/category/gis/\n"
   ]
  },
  {
   "cell_type": "code",
   "execution_count": 15,
   "metadata": {},
   "outputs": [
    {
     "name": "stdout",
     "output_type": "stream",
     "text": [
      "The autoreload extension is already loaded. To reload it, use:\n",
      "  %reload_ext autoreload\n"
     ]
    }
   ],
   "source": [
    "# %load load_basic.py\n",
    "import pandas as pd\n",
    "import numpy as np\n",
    "import matplotlib.pyplot as plt\n",
    "from pprint import pprint as pp\n",
    "%matplotlib inline\n",
    "%load_ext autoreload\n",
    "%autoreload 2"
   ]
  },
  {
   "cell_type": "code",
   "execution_count": 16,
   "metadata": {},
   "outputs": [
    {
     "name": "stdout",
     "output_type": "stream",
     "text": [
      "The autoreload extension is already loaded. To reload it, use:\n",
      "  %reload_ext autoreload\n"
     ]
    }
   ],
   "source": [
    "import glob\n",
    "import io\n",
    "import ipyleaflet\n",
    "import IPython.display\n",
    "import ipyvolume.pylab as p3\n",
    "import json\n",
    "import matplotlib.cm\n",
    "import matplotlib.pyplot as plt\n",
    "import numpy as np\n",
    "import os\n",
    "import pandas as pd\n",
    "import pdal\n",
    "import PIL\n",
    "import pyproj\n",
    "import requests\n",
    "import shapely.geometry as geo\n",
    "import scipy.spatial\n",
    "import sys\n",
    "import urllib.request\n",
    "import fiona, shapely\n",
    "\n"
   ]
  },
  {
   "cell_type": "code",
   "execution_count": 3,
   "metadata": {},
   "outputs": [],
   "source": [
    "shapes_path = \"/media/thistle/Passport/gis/Idaho_Springs/lidar_downloads/outs/index/index.shp\"\n",
    "with fiona.open(shapes_path) as src:\n",
    "    meta = src.meta"
   ]
  },
  {
   "cell_type": "code",
   "execution_count": 5,
   "metadata": {},
   "outputs": [],
   "source": [
    "f = fiona.open(shapes_path)"
   ]
  },
  {
   "cell_type": "code",
   "execution_count": 9,
   "metadata": {},
   "outputs": [
    {
     "name": "stdout",
     "output_type": "stream",
     "text": [
      "<open Collection '/media/thistle/Passport/gis/Idaho_Springs/lidar_downloads/outs/index/index.shp:index', mode 'r' at 0x7f32731f95d0>\n"
     ]
    }
   ],
   "source": [
    "print(f)"
   ]
  },
  {
   "cell_type": "code",
   "execution_count": 13,
   "metadata": {},
   "outputs": [],
   "source": [
    "z = f.values()"
   ]
  },
  {
   "cell_type": "code",
   "execution_count": 14,
   "metadata": {},
   "outputs": [
    {
     "data": {
      "text/plain": [
       "{'type': 'Feature',\n",
       " 'id': '0',\n",
       " 'properties': OrderedDict([('location',\n",
       "               '/media/thistle/Passport/gis/Idaho_Springs/lidar_downloads/outs/out68.las'),\n",
       "              ('srs', 'EPSG:26913'),\n",
       "              ('modified', '2020-04-18'),\n",
       "              ('created', '2020-04-18')]),\n",
       " 'geometry': {'type': 'Polygon',\n",
       "  'coordinates': [[(39.74880584673204, -105.44312217731081),\n",
       "    (39.74882659435288, -105.4376534350541),\n",
       "    (39.753700964875335, -105.4376842814909),\n",
       "    (39.75367963379765, -105.44330527417162),\n",
       "    (39.753474268387954, -105.44375967926855),\n",
       "    (39.749107770847225, -105.44380765079887),\n",
       "    (39.74880584673204, -105.44312217731081)]]}}"
      ]
     },
     "execution_count": 14,
     "metadata": {},
     "output_type": "execute_result"
    }
   ],
   "source": [
    "next(z)"
   ]
  },
  {
   "cell_type": "code",
   "execution_count": null,
   "metadata": {},
   "outputs": [],
   "source": []
  },
  {
   "cell_type": "code",
   "execution_count": null,
   "metadata": {},
   "outputs": [],
   "source": []
  },
  {
   "cell_type": "code",
   "execution_count": null,
   "metadata": {},
   "outputs": [],
   "source": []
  },
  {
   "cell_type": "code",
   "execution_count": 7,
   "metadata": {},
   "outputs": [
    {
     "data": {
      "text/plain": [
       "['__class__',\n",
       " '__contains__',\n",
       " '__del__',\n",
       " '__delattr__',\n",
       " '__dict__',\n",
       " '__dir__',\n",
       " '__doc__',\n",
       " '__enter__',\n",
       " '__eq__',\n",
       " '__exit__',\n",
       " '__format__',\n",
       " '__ge__',\n",
       " '__getattribute__',\n",
       " '__getitem__',\n",
       " '__gt__',\n",
       " '__hash__',\n",
       " '__init__',\n",
       " '__init_subclass__',\n",
       " '__iter__',\n",
       " '__le__',\n",
       " '__len__',\n",
       " '__lt__',\n",
       " '__module__',\n",
       " '__ne__',\n",
       " '__new__',\n",
       " '__next__',\n",
       " '__reduce__',\n",
       " '__reduce_ex__',\n",
       " '__repr__',\n",
       " '__setattr__',\n",
       " '__sizeof__',\n",
       " '__str__',\n",
       " '__subclasshook__',\n",
       " '__weakref__',\n",
       " '_bounds',\n",
       " '_check_schema_driver_support',\n",
       " '_crs',\n",
       " '_crs_wkt',\n",
       " '_driver',\n",
       " '_len',\n",
       " '_schema',\n",
       " 'bounds',\n",
       " 'close',\n",
       " 'closed',\n",
       " 'crs',\n",
       " 'crs_wkt',\n",
       " 'driver',\n",
       " 'enabled_drivers',\n",
       " 'encoding',\n",
       " 'env',\n",
       " 'field_skip_log_filter',\n",
       " 'filter',\n",
       " 'flush',\n",
       " 'get',\n",
       " 'guard_driver_mode',\n",
       " 'ignore_fields',\n",
       " 'ignore_geometry',\n",
       " 'items',\n",
       " 'iterator',\n",
       " 'keys',\n",
       " 'meta',\n",
       " 'mode',\n",
       " 'name',\n",
       " 'next',\n",
       " 'path',\n",
       " 'profile',\n",
       " 'schema',\n",
       " 'session',\n",
       " 'validate_record',\n",
       " 'validate_record_geometry',\n",
       " 'values',\n",
       " 'write',\n",
       " 'writerecords']"
      ]
     },
     "execution_count": 7,
     "metadata": {},
     "output_type": "execute_result"
    }
   ],
   "source": [
    "dir(f)"
   ]
  },
  {
   "cell_type": "code",
   "execution_count": 3,
   "metadata": {},
   "outputs": [
    {
     "data": {
      "image/svg+xml": [
       "<svg xmlns=\"http://www.w3.org/2000/svg\" xmlns:xlink=\"http://www.w3.org/1999/xlink\" width=\"100.0\" height=\"100.0\" viewBox=\"-105.46388535134878 39.7366638314784 0.02947771988472425 0.010499286869404045\" preserveAspectRatio=\"xMinYMin meet\"><g transform=\"matrix(1,0,0,-1,0,79.48382694982621)\"><path fill-rule=\"evenodd\" fill=\"#66cc99\" stroke=\"#555555\" stroke-width=\"0.000589554397694485\" opacity=\"0.6\" d=\"M -105.46279358394564,39.7459393627176 L -105.45730041461992,39.740197630147044 L -105.447258214451,39.73775559888154 L -105.4354993988672,39.74184760228 L -105.44004842971214,39.74521342295228 L -105.44348166054027,39.743035557765495 L -105.44751570676233,39.744355484278536 L -105.44948981448819,39.74389351287522 L -105.45309470685699,39.74277156942937 L -105.45824455309862,39.74501543805292 L -105.46064781467835,39.74607135094467 L -105.46279358394564,39.7459393627176 z\" /></g></svg>"
      ],
      "text/plain": [
       "<shapely.geometry.polygon.Polygon at 0x7f707956ffd0>"
      ]
     },
     "execution_count": 3,
     "metadata": {},
     "output_type": "execute_result"
    }
   ],
   "source": [
    "coords_r = [[-105.46279358394564, 39.7459393627176],\n",
    "          [-105.45730041461992, 39.740197630147044],\n",
    "          [-105.447258214451, 39.73775559888154],\n",
    "          [-105.4354993988672, 39.74184760228,4906],\n",
    "          [-105.44004842971214, 39.74521342295228],\n",
    "          [-105.44348166054027, 39.743035557765495],\n",
    "          [-105.44751570676233, 39.744355484278536],\n",
    "          [-105.44948981448819, 39.74389351287522],\n",
    "          [-105.45309470685699, 39.74277156942937],\n",
    "          [-105.45824455309862, 39.74501543805292],\n",
    "          [-105.46064781467835, 39.74607135094467]]\n",
    "\n",
    "poly1 = geo.Polygon(coords_r)\n",
    "poly1"
   ]
  },
  {
   "cell_type": "code",
   "execution_count": 4,
   "metadata": {},
   "outputs": [],
   "source": [
    "bounds = poly1.bounds"
   ]
  },
  {
   "cell_type": "code",
   "execution_count": 5,
   "metadata": {},
   "outputs": [
    {
     "data": {
      "text/plain": [
       "(-105.46279358394564, 39.73775559888154, -105.4354993988672, 39.74607135094467)"
      ]
     },
     "execution_count": 5,
     "metadata": {},
     "output_type": "execute_result"
    }
   ],
   "source": [
    "bounds"
   ]
  },
  {
   "cell_type": "code",
   "execution_count": 57,
   "metadata": {},
   "outputs": [],
   "source": [
    "lidar_dir = \"/media/thistle/Passport/gis/Idaho_Springs/lidar_downloads/\"\n",
    "lidar1 = \"/media/thistle/Passport/gis/Idaho_Springs/lidar_downloads/USGS_LPC_CO_SoPlatteRiver_Lot5_2013_13SDD459398_LAS_2015.laz\"\n",
    "lidar2 = \"/media/thistle/Passport/gis/Idaho_Springs/lidar_downloads/USGS_LPC_CO_SoPlatteRiver_Lot5_2013_13SDD459399_LAS_2015.laz\"\n",
    "out_dir = \"../data\""
   ]
  },
  {
   "cell_type": "code",
   "execution_count": 60,
   "metadata": {},
   "outputs": [],
   "source": [
    "input_ = lidar_dir + \"*.laz\"\n",
    "output_ = lidar_dir + \"outs/out#.laz\""
   ]
  },
  {
   "cell_type": "code",
   "execution_count": 61,
   "metadata": {},
   "outputs": [
    {
     "data": {
      "text/plain": [
       "'/media/thistle/Passport/gis/Idaho_Springs/lidar_downloads/outs/out#.laz'"
      ]
     },
     "execution_count": 61,
     "metadata": {},
     "output_type": "execute_result"
    }
   ],
   "source": [
    "output_"
   ]
  },
  {
   "cell_type": "code",
   "execution_count": 62,
   "metadata": {},
   "outputs": [
    {
     "data": {
      "text/plain": [
       "'/media/thistle/Passport/gis/Idaho_Springs/lidar_downloads/*.laz'"
      ]
     },
     "execution_count": 62,
     "metadata": {},
     "output_type": "execute_result"
    }
   ],
   "source": [
    "input_"
   ]
  },
  {
   "cell_type": "code",
   "execution_count": 63,
   "metadata": {},
   "outputs": [],
   "source": [
    "!pdal tile \"/media/thistle/Passport/gis/Idahoa_Springs/lidar_downloads/*.laz\" \"/media/thistle/Passport/gis/Idaho_Springs/lidar_downloads/outs/out#.laz\" --out_srs=\"EPSG:4326\""
   ]
  },
  {
   "cell_type": "code",
   "execution_count": 71,
   "metadata": {},
   "outputs": [],
   "source": [
    "!pdal tile $lidar1 \"/media/thistle/Passport/gis/Idaho_Springs/lidar_downloads/outs/out#.laz\""
   ]
  },
  {
   "cell_type": "code",
   "execution_count": null,
   "metadata": {},
   "outputs": [],
   "source": []
  },
  {
   "cell_type": "code",
   "execution_count": 8,
   "metadata": {},
   "outputs": [],
   "source": [
    "#!pdal info $lidar1 --metadata | jq .metadata.srs"
   ]
  },
  {
   "cell_type": "code",
   "execution_count": 9,
   "metadata": {},
   "outputs": [],
   "source": [
    "script1 = {\n",
    "    \"pipeline\":\n",
    "    [\n",
    "        lidar1,\n",
    "        \n",
    "    ]\n",
    "}"
   ]
  },
  {
   "cell_type": "code",
   "execution_count": 84,
   "metadata": {},
   "outputs": [],
   "source": [
    "script2 = [\n",
    "    {\n",
    "        \"filename\":\"/media/thistle/Passport/gis/Idaho_Springs/lidar_downloads/outs/out1_-2.laz\",\n",
    "        \n",
    "    },\n",
    "    {\n",
    "        \"type\":\"filters.reprojection\",\n",
    "        \"in_srs\":\"EPSG:26913\"\n",
    "        \"out_srs\":\"EPSG:4326\"\n",
    "    },\n",
    "    {\n",
    "        \"filename\":\"/media/thistle/Passport/gis/Idaho_Springs/lidar_downloads/outs/out1.las\"\n",
    "    }\n",
    "]"
   ]
  },
  {
   "cell_type": "code",
   "execution_count": 93,
   "metadata": {},
   "outputs": [],
   "source": [
    "script3 = [\n",
    "    {\n",
    "        \"filename\":\"/media/thistle/Passport/gis/Idaho_Springs/lidar_downloads/outs/*.laz\",\n",
    "        \n",
    "    },\n",
    "    {\n",
    "        \"type\":\"filters.reprojection\",\n",
    "        \"in_srs\":\"EPSG:26913\",\n",
    "        \"out_srs\":\"EPSG:4326\"\n",
    "    },\n",
    "    \n",
    "    {\n",
    "        \"filename\":\"/media/thistle/Passport/gis/Idaho_Springs/lidar_downloads/outs/out1.las\"\n",
    "    }\n",
    "]"
   ]
  },
  {
   "cell_type": "code",
   "execution_count": 111,
   "metadata": {},
   "outputs": [],
   "source": [
    "script4 = [\n",
    "    {\n",
    "        \"filename\":\"/media/thistle/Passport/gis/Idaho_Springs/lidar_downloads/*.laz\",\n",
    "        \n",
    "    },\n",
    "    {\n",
    "        \"type\":\"filters.merge\",\n",
    "    },\n",
    "    {\n",
    "        \"type\":\"filters.splitter\",\n",
    "        \"length\":\"500\",\n",
    "    },\n",
    "    {\n",
    "        \"type\":\"filters.reprojection\",\n",
    "        \"in_srs\":\"EPSG:26913\",\n",
    "        \"out_srs\":\"EPSG:4326\"\n",
    "    },\n",
    "    {\n",
    "        \"filename\":\"/media/thistle/Passport/gis/Idaho_Springs/lidar_downloads/outs/out#.las\"\n",
    "    }\n",
    "]"
   ]
  },
  {
   "cell_type": "code",
   "execution_count": 112,
   "metadata": {},
   "outputs": [],
   "source": [
    "pl = pdal.Pipeline(json.dumps(script4))"
   ]
  },
  {
   "cell_type": "code",
   "execution_count": 113,
   "metadata": {},
   "outputs": [
    {
     "data": {
      "text/plain": [
       "True"
      ]
     },
     "execution_count": 113,
     "metadata": {},
     "output_type": "execute_result"
    }
   ],
   "source": [
    "pl.validate()"
   ]
  },
  {
   "cell_type": "code",
   "execution_count": 114,
   "metadata": {},
   "outputs": [
    {
     "name": "stdout",
     "output_type": "stream",
     "text": [
      "CPU times: user 1min 44s, sys: 2.88 s, total: 1min 47s\n",
      "Wall time: 1min 56s\n",
      "Pipeline selected 63241360 points\n"
     ]
    }
   ],
   "source": [
    "%time np = pl.execute()\n",
    "print(\"Pipeline selected {} points\".format(np))"
   ]
  },
  {
   "cell_type": "code",
   "execution_count": null,
   "metadata": {},
   "outputs": [],
   "source": []
  },
  {
   "cell_type": "code",
   "execution_count": null,
   "metadata": {},
   "outputs": [],
   "source": []
  },
  {
   "cell_type": "code",
   "execution_count": null,
   "metadata": {},
   "outputs": [],
   "source": []
  },
  {
   "cell_type": "code",
   "execution_count": null,
   "metadata": {},
   "outputs": [],
   "source": [
    "in_ = \"/media/thistle/Passport/gis/Idaho_Springs/lidar_downloads/outs/*.las\"\n",
    "out_ = \"/media/thistle/Passport/gis/Idaho_Springs/lidar_downloads/outs/index/index.shp\""
   ]
  },
  {
   "cell_type": "code",
   "execution_count": 115,
   "metadata": {},
   "outputs": [
    {
     "name": "stdout",
     "output_type": "stream",
     "text": [
      "CPU times: user 266 ms, sys: 100 ms, total: 367 ms\n",
      "Wall time: 18.4 s\n"
     ]
    }
   ],
   "source": [
    "%%time\n",
    "!pdal tindex create \"/media/thistle/Passport/gis/Idaho_Springs/lidar_downloads/outs/index/index.shp\" \"/media/thistle/Passport/gis/Idaho_Springs/lidar_downloads/outs/*.las\""
   ]
  },
  {
   "cell_type": "code",
   "execution_count": null,
   "metadata": {},
   "outputs": [],
   "source": []
  },
  {
   "cell_type": "code",
   "execution_count": null,
   "metadata": {},
   "outputs": [],
   "source": []
  },
  {
   "cell_type": "code",
   "execution_count": null,
   "metadata": {},
   "outputs": [],
   "source": []
  },
  {
   "cell_type": "code",
   "execution_count": 107,
   "metadata": {},
   "outputs": [],
   "source": [
    "#!pdal info \"/media/thistle/Passport/gis/Idaho_Springs/lidar_downloads/outs/out1_-2.laz\" --metadata"
   ]
  },
  {
   "cell_type": "code",
   "execution_count": 86,
   "metadata": {},
   "outputs": [
    {
     "data": {
      "text/plain": [
       "True"
      ]
     },
     "execution_count": 86,
     "metadata": {},
     "output_type": "execute_result"
    }
   ],
   "source": [
    "p = pdal.Pipeline(json.dumps(script2))\n",
    "p.validate()"
   ]
  },
  {
   "cell_type": "code",
   "execution_count": 87,
   "metadata": {},
   "outputs": [
    {
     "name": "stdout",
     "output_type": "stream",
     "text": [
      "CPU times: user 1.62 s, sys: 44.2 ms, total: 1.66 s\n",
      "Wall time: 1.79 s\n",
      "Pipeline selected 1003356 points\n"
     ]
    }
   ],
   "source": [
    "%time np = p.execute()\n",
    "print(\"Pipeline selected {} points\".format(np))"
   ]
  },
  {
   "cell_type": "code",
   "execution_count": 88,
   "metadata": {},
   "outputs": [],
   "source": [
    "#!pdal info \"/media/thistle/Passport/gis/Idaho_Springs/lidar_downloads/USGS_LPC_CO_SoPlatteRiver_Lot5_2013_13SDD459398_LAS_2015.laz\" --metadata | jq \".metadata\""
   ]
  },
  {
   "cell_type": "code",
   "execution_count": 89,
   "metadata": {},
   "outputs": [
    {
     "name": "stdout",
     "output_type": "stream",
     "text": [
      "{\r\n",
      "  \"filename\": \"/media/thistle/Passport/gis/Idaho_Springs/lidar_downloads/outs/out1.las\",\r\n",
      "  \"metadata\":\r\n",
      "  {\r\n",
      "    \"comp_spatialreference\": \"GEOGCS[\\\"WGS 84\\\",DATUM[\\\"WGS_1984\\\",SPHEROID[\\\"WGS 84\\\",6378137,298.257223563,AUTHORITY[\\\"EPSG\\\",\\\"7030\\\"]],AUTHORITY[\\\"EPSG\\\",\\\"6326\\\"]],PRIMEM[\\\"Greenwich\\\",0],UNIT[\\\"degree\\\",0.0174532925199433,AUTHORITY[\\\"EPSG\\\",\\\"9122\\\"]],AXIS[\\\"Latitude\\\",NORTH],AXIS[\\\"Longitude\\\",EAST],AUTHORITY[\\\"EPSG\\\",\\\"4326\\\"]]\",\r\n",
      "    \"compressed\": false,\r\n",
      "    \"count\": 1003356,\r\n",
      "    \"creation_doy\": 108,\r\n",
      "    \"creation_year\": 2020,\r\n",
      "    \"dataformat_id\": 3,\r\n",
      "    \"dataoffset\": 477,\r\n",
      "    \"filesource_id\": 23973,\r\n",
      "    \"global_encoding\": 0,\r\n",
      "    \"global_encoding_base64\": \"AAA=\",\r\n",
      "    \"header_size\": 227,\r\n",
      "    \"major_version\": 1,\r\n",
      "    \"maxx\": -105.4609435,\r\n",
      "    \"maxy\": 39.73544797,\r\n",
      "    \"maxz\": 2831.63,\r\n",
      "    \"minor_version\": 2,\r\n",
      "    \"minx\": -105.4668001,\r\n",
      "    \"miny\": 39.73094919,\r\n",
      "    \"minz\": 2547.53,\r\n",
      "    \"offset_x\": 0,\r\n",
      "    \"offset_y\": 0,\r\n",
      "    \"offset_z\": 0,\r\n",
      "    \"point_length\": 34,\r\n",
      "    \"project_id\": \"00000000-0000-0000-0000-000000000000\",\r\n",
      "    \"scale_x\": 0.01,\r\n",
      "    \"scale_y\": 0.01,\r\n",
      "    \"scale_z\": 0.01,\r\n",
      "    \"software_id\": \"PDAL 2.0.1 (6600e6)\",\r\n",
      "    \"spatialreference\": \"GEOGCS[\\\"WGS 84\\\",DATUM[\\\"WGS_1984\\\",SPHEROID[\\\"WGS 84\\\",6378137,298.257223563,AUTHORITY[\\\"EPSG\\\",\\\"7030\\\"]],AUTHORITY[\\\"EPSG\\\",\\\"6326\\\"]],PRIMEM[\\\"Greenwich\\\",0],UNIT[\\\"degree\\\",0.0174532925199433,AUTHORITY[\\\"EPSG\\\",\\\"9122\\\"]],AXIS[\\\"Latitude\\\",NORTH],AXIS[\\\"Longitude\\\",EAST],AUTHORITY[\\\"EPSG\\\",\\\"4326\\\"]]\",\r\n",
      "    \"srs\":\r\n",
      "    {\r\n",
      "      \"compoundwkt\": \"GEOGCS[\\\"WGS 84\\\",DATUM[\\\"WGS_1984\\\",SPHEROID[\\\"WGS 84\\\",6378137,298.257223563,AUTHORITY[\\\"EPSG\\\",\\\"7030\\\"]],AUTHORITY[\\\"EPSG\\\",\\\"6326\\\"]],PRIMEM[\\\"Greenwich\\\",0],UNIT[\\\"degree\\\",0.0174532925199433,AUTHORITY[\\\"EPSG\\\",\\\"9122\\\"]],AXIS[\\\"Latitude\\\",NORTH],AXIS[\\\"Longitude\\\",EAST],AUTHORITY[\\\"EPSG\\\",\\\"4326\\\"]]\",\r\n",
      "      \"horizontal\": \"GEOGCS[\\\"WGS 84\\\",DATUM[\\\"WGS_1984\\\",SPHEROID[\\\"WGS 84\\\",6378137,298.257223563,AUTHORITY[\\\"EPSG\\\",\\\"7030\\\"]],AUTHORITY[\\\"EPSG\\\",\\\"6326\\\"]],PRIMEM[\\\"Greenwich\\\",0],UNIT[\\\"degree\\\",0.0174532925199433,AUTHORITY[\\\"EPSG\\\",\\\"9122\\\"]],AXIS[\\\"Latitude\\\",NORTH],AXIS[\\\"Longitude\\\",EAST],AUTHORITY[\\\"EPSG\\\",\\\"4326\\\"]]\",\r\n",
      "      \"isgeocentric\": false,\r\n",
      "      \"isgeographic\": true,\r\n",
      "      \"prettycompoundwkt\": \"GEOGCS[\\\"WGS 84\\\",\\n    DATUM[\\\"WGS_1984\\\",\\n        SPHEROID[\\\"WGS 84\\\",6378137,298.257223563,\\n            AUTHORITY[\\\"EPSG\\\",\\\"7030\\\"]],\\n        AUTHORITY[\\\"EPSG\\\",\\\"6326\\\"]],\\n    PRIMEM[\\\"Greenwich\\\",0],\\n    UNIT[\\\"degree\\\",0.0174532925199433,\\n        AUTHORITY[\\\"EPSG\\\",\\\"9122\\\"]],\\n    AXIS[\\\"Latitude\\\",NORTH],\\n    AXIS[\\\"Longitude\\\",EAST],\\n    AUTHORITY[\\\"EPSG\\\",\\\"4326\\\"]]\",\r\n",
      "      \"prettywkt\": \"GEOGCS[\\\"WGS 84\\\",\\n    DATUM[\\\"WGS_1984\\\",\\n        SPHEROID[\\\"WGS 84\\\",6378137,298.257223563,\\n            AUTHORITY[\\\"EPSG\\\",\\\"7030\\\"]],\\n        AUTHORITY[\\\"EPSG\\\",\\\"6326\\\"]],\\n    PRIMEM[\\\"Greenwich\\\",0],\\n    UNIT[\\\"degree\\\",0.0174532925199433,\\n        AUTHORITY[\\\"EPSG\\\",\\\"9122\\\"]],\\n    AXIS[\\\"Latitude\\\",NORTH],\\n    AXIS[\\\"Longitude\\\",EAST],\\n    AUTHORITY[\\\"EPSG\\\",\\\"4326\\\"]]\",\r\n",
      "      \"proj4\": \"+proj=longlat +datum=WGS84 +no_defs\",\r\n",
      "      \"units\":\r\n",
      "      {\r\n",
      "        \"horizontal\": \"unknown\",\r\n",
      "        \"vertical\": \"\"\r\n",
      "      },\r\n",
      "      \"vertical\": \"\",\r\n",
      "      \"wkt\": \"GEOGCS[\\\"WGS 84\\\",DATUM[\\\"WGS_1984\\\",SPHEROID[\\\"WGS 84\\\",6378137,298.257223563,AUTHORITY[\\\"EPSG\\\",\\\"7030\\\"]],AUTHORITY[\\\"EPSG\\\",\\\"6326\\\"]],PRIMEM[\\\"Greenwich\\\",0],UNIT[\\\"degree\\\",0.0174532925199433,AUTHORITY[\\\"EPSG\\\",\\\"9122\\\"]],AXIS[\\\"Latitude\\\",NORTH],AXIS[\\\"Longitude\\\",EAST],AUTHORITY[\\\"EPSG\\\",\\\"4326\\\"]]\"\r\n",
      "    },\r\n",
      "    \"system_id\": \"PDAL\",\r\n",
      "    \"vlr_0\":\r\n",
      "    {\r\n",
      "      \"data\": \"AQABAAAABwAABAAAAQACAAEEAAABAAEAAAgAAAEA5hABCLGHBwAAAAYIAAABAI4jCQiwhwEAAQALCLCHAQAAAA==\",\r\n",
      "      \"description\": \"GeoTiff GeoKeyDirectoryTag\",\r\n",
      "      \"record_id\": 34735,\r\n",
      "      \"user_id\": \"LASF_Projection\"\r\n",
      "    },\r\n",
      "    \"vlr_1\":\r\n",
      "    {\r\n",
      "      \"data\": \"iG10lh2kckAAAABAplRYQQ==\",\r\n",
      "      \"description\": \"GeoTiff GeoDoubleParamsTag\",\r\n",
      "      \"record_id\": 34736,\r\n",
      "      \"user_id\": \"LASF_Projection\"\r\n",
      "    },\r\n",
      "    \"vlr_2\":\r\n",
      "    {\r\n",
      "      \"data\": \"V0dTIDg0fAA=\",\r\n",
      "      \"description\": \"GeoTiff GeoAsciiParamsTag\",\r\n",
      "      \"record_id\": 34737,\r\n",
      "      \"user_id\": \"LASF_Projection\"\r\n",
      "    }\r\n",
      "  },\r\n",
      "  \"pdal_version\": \"2.0.1 (git-version: 6600e6)\"\r\n",
      "}\r\n"
     ]
    }
   ],
   "source": [
    "!pdal info \"/media/thistle/Passport/gis/Idaho_Springs/lidar_downloads/outs/out1.las\" --metadata"
   ]
  },
  {
   "cell_type": "code",
   "execution_count": null,
   "metadata": {},
   "outputs": [],
   "source": []
  },
  {
   "cell_type": "code",
   "execution_count": 11,
   "metadata": {},
   "outputs": [
    {
     "data": {
      "text/plain": [
       "True"
      ]
     },
     "execution_count": 11,
     "metadata": {},
     "output_type": "execute_result"
    }
   ],
   "source": [
    "pipeline = pdal.Pipeline(json.dumps(script1))\n",
    "pipeline.validate()"
   ]
  },
  {
   "cell_type": "code",
   "execution_count": 12,
   "metadata": {},
   "outputs": [
    {
     "name": "stdout",
     "output_type": "stream",
     "text": [
      "CPU times: user 7.63 s, sys: 203 ms, total: 7.83 s\n",
      "Wall time: 7.8 s\n",
      "Pipeline selected 10888444 points\n"
     ]
    }
   ],
   "source": [
    "%time n_points = pipeline.execute()\n",
    "print(\"Pipeline selected {} points\".format(n_points))"
   ]
  },
  {
   "cell_type": "code",
   "execution_count": 13,
   "metadata": {},
   "outputs": [
    {
     "data": {
      "text/plain": [
       "(10888444,)"
      ]
     },
     "execution_count": 13,
     "metadata": {},
     "output_type": "execute_result"
    }
   ],
   "source": [
    "arr = pipeline.arrays[0]\n",
    "arr.shape"
   ]
  },
  {
   "cell_type": "code",
   "execution_count": 14,
   "metadata": {
    "jupyter": {
     "outputs_hidden": true
    }
   },
   "outputs": [
    {
     "data": {
      "text/plain": [
       "'{\\n  \"metadata\":\\n  {\\n    \"unnamed\":\\n    {\\n    },\\n    \"readers.las\":\\n    [\\n      {\\n        \"comp_spatialreference\": \"COMPD_CS[\\\\\"unknown\\\\\",PROJCS[\\\\\"NAD_1983_UTM_Zone_13N\\\\\",GEOGCS[\\\\\"NAD83\\\\\",DATUM[\\\\\"North_American_Datum_1983\\\\\",SPHEROID[\\\\\"GRS 1980\\\\\",6378137,298.257222101004,AUTHORITY[\\\\\"EPSG\\\\\",\\\\\"7019\\\\\"]],AUTHORITY[\\\\\"EPSG\\\\\",\\\\\"6269\\\\\"]],PRIMEM[\\\\\"Greenwich\\\\\",0],UNIT[\\\\\"degree\\\\\",0.0174532925199433,AUTHORITY[\\\\\"EPSG\\\\\",\\\\\"9122\\\\\"]],AUTHORITY[\\\\\"EPSG\\\\\",\\\\\"4269\\\\\"]],PROJECTION[\\\\\"Transverse_Mercator\\\\\"],PARAMETER[\\\\\"latitude_of_origin\\\\\",0],PARAMETER[\\\\\"central_meridian\\\\\",-105],PARAMETER[\\\\\"scale_factor\\\\\",0.9996],PARAMETER[\\\\\"false_easting\\\\\",500000],PARAMETER[\\\\\"false_northing\\\\\",0],UNIT[\\\\\"metre\\\\\",1,AUTHORITY[\\\\\"EPSG\\\\\",\\\\\"9001\\\\\"]],AXIS[\\\\\"Easting\\\\\",EAST],AXIS[\\\\\"Northing\\\\\",NORTH],AUTHORITY[\\\\\"EPSG\\\\\",\\\\\"26913\\\\\"]],VERT_CS[\\\\\"NAVD88 height\\\\\",VERT_DATUM[\\\\\"North American Vertical Datum 1988\\\\\",2005,AUTHORITY[\\\\\"EPSG\\\\\",\\\\\"5103\\\\\"]],UNIT[\\\\\"metre\\\\\",1,AUTHORITY[\\\\\"EPSG\\\\\",\\\\\"9001\\\\\"]],AXIS[\\\\\"Up\\\\\",UP],AUTHORITY[\\\\\"EPSG\\\\\",\\\\\"5703\\\\\"]]]\",\\n        \"compressed\": true,\\n        \"count\": 10888444,\\n        \"creation_doy\": 149,\\n        \"creation_year\": 2014,\\n        \"dataformat_id\": 1,\\n        \"dataoffset\": 1132,\\n        \"filesource_id\": 65535,\\n        \"global_encoding\": 1,\\n        \"global_encoding_base64\": \"AQA=\",\\n        \"header_size\": 227,\\n        \"major_version\": 1,\\n        \"maxx\": 460499.99,\\n        \"maxy\": 4399499.99,\\n        \"maxz\": 3920.4,\\n        \"minor_version\": 2,\\n        \"minx\": 459000.01,\\n        \"miny\": 4398000,\\n        \"minz\": 2238.73,\\n        \"offset_x\": 0,\\n        \"offset_y\": 0,\\n        \"offset_z\": 0,\\n        \"point_length\": 28,\\n        \"project_id\": \"AB4109C2-E748-5741-B2BA-32B8A422929E\",\\n        \"scale_x\": 0.01,\\n        \"scale_y\": 0.01,\\n        \"scale_z\": 0.01,\\n        \"software_id\": \"GeoCue GeoCoder                \",\\n        \"spatialreference\": \"COMPD_CS[\\\\\"unknown\\\\\",PROJCS[\\\\\"NAD_1983_UTM_Zone_13N\\\\\",GEOGCS[\\\\\"NAD83\\\\\",DATUM[\\\\\"North_American_Datum_1983\\\\\",SPHEROID[\\\\\"GRS 1980\\\\\",6378137,298.257222101004,AUTHORITY[\\\\\"EPSG\\\\\",\\\\\"7019\\\\\"]],AUTHORITY[\\\\\"EPSG\\\\\",\\\\\"6269\\\\\"]],PRIMEM[\\\\\"Greenwich\\\\\",0],UNIT[\\\\\"degree\\\\\",0.0174532925199433,AUTHORITY[\\\\\"EPSG\\\\\",\\\\\"9122\\\\\"]],AUTHORITY[\\\\\"EPSG\\\\\",\\\\\"4269\\\\\"]],PROJECTION[\\\\\"Transverse_Mercator\\\\\"],PARAMETER[\\\\\"latitude_of_origin\\\\\",0],PARAMETER[\\\\\"central_meridian\\\\\",-105],PARAMETER[\\\\\"scale_factor\\\\\",0.9996],PARAMETER[\\\\\"false_easting\\\\\",500000],PARAMETER[\\\\\"false_northing\\\\\",0],UNIT[\\\\\"metre\\\\\",1,AUTHORITY[\\\\\"EPSG\\\\\",\\\\\"9001\\\\\"]],AXIS[\\\\\"Easting\\\\\",EAST],AXIS[\\\\\"Northing\\\\\",NORTH],AUTHORITY[\\\\\"EPSG\\\\\",\\\\\"26913\\\\\"]],VERT_CS[\\\\\"NAVD88 height\\\\\",VERT_DATUM[\\\\\"North American Vertical Datum 1988\\\\\",2005,AUTHORITY[\\\\\"EPSG\\\\\",\\\\\"5103\\\\\"]],UNIT[\\\\\"metre\\\\\",1,AUTHORITY[\\\\\"EPSG\\\\\",\\\\\"9001\\\\\"]],AXIS[\\\\\"Up\\\\\",UP],AUTHORITY[\\\\\"EPSG\\\\\",\\\\\"5703\\\\\"]]]\",\\n        \"srs\":\\n        {\\n          \"compoundwkt\": \"COMPD_CS[\\\\\"unknown\\\\\",PROJCS[\\\\\"NAD_1983_UTM_Zone_13N\\\\\",GEOGCS[\\\\\"NAD83\\\\\",DATUM[\\\\\"North_American_Datum_1983\\\\\",SPHEROID[\\\\\"GRS 1980\\\\\",6378137,298.257222101004,AUTHORITY[\\\\\"EPSG\\\\\",\\\\\"7019\\\\\"]],AUTHORITY[\\\\\"EPSG\\\\\",\\\\\"6269\\\\\"]],PRIMEM[\\\\\"Greenwich\\\\\",0],UNIT[\\\\\"degree\\\\\",0.0174532925199433,AUTHORITY[\\\\\"EPSG\\\\\",\\\\\"9122\\\\\"]],AUTHORITY[\\\\\"EPSG\\\\\",\\\\\"4269\\\\\"]],PROJECTION[\\\\\"Transverse_Mercator\\\\\"],PARAMETER[\\\\\"latitude_of_origin\\\\\",0],PARAMETER[\\\\\"central_meridian\\\\\",-105],PARAMETER[\\\\\"scale_factor\\\\\",0.9996],PARAMETER[\\\\\"false_easting\\\\\",500000],PARAMETER[\\\\\"false_northing\\\\\",0],UNIT[\\\\\"metre\\\\\",1,AUTHORITY[\\\\\"EPSG\\\\\",\\\\\"9001\\\\\"]],AXIS[\\\\\"Easting\\\\\",EAST],AXIS[\\\\\"Northing\\\\\",NORTH],AUTHORITY[\\\\\"EPSG\\\\\",\\\\\"26913\\\\\"]],VERT_CS[\\\\\"NAVD88 height\\\\\",VERT_DATUM[\\\\\"North American Vertical Datum 1988\\\\\",2005,AUTHORITY[\\\\\"EPSG\\\\\",\\\\\"5103\\\\\"]],UNIT[\\\\\"metre\\\\\",1,AUTHORITY[\\\\\"EPSG\\\\\",\\\\\"9001\\\\\"]],AXIS[\\\\\"Up\\\\\",UP],AUTHORITY[\\\\\"EPSG\\\\\",\\\\\"5703\\\\\"]]]\",\\n          \"horizontal\": \"PROJCS[\\\\\"NAD_1983_UTM_Zone_13N\\\\\",GEOGCS[\\\\\"NAD83\\\\\",DATUM[\\\\\"North_American_Datum_1983\\\\\",SPHEROID[\\\\\"GRS 1980\\\\\",6378137,298.257222101004,AUTHORITY[\\\\\"EPSG\\\\\",\\\\\"7019\\\\\"]],AUTHORITY[\\\\\"EPSG\\\\\",\\\\\"6269\\\\\"]],PRIMEM[\\\\\"Greenwich\\\\\",0],UNIT[\\\\\"degree\\\\\",0.0174532925199433,AUTHORITY[\\\\\"EPSG\\\\\",\\\\\"9122\\\\\"]],AUTHORITY[\\\\\"EPSG\\\\\",\\\\\"4269\\\\\"]],PROJECTION[\\\\\"Transverse_Mercator\\\\\"],PARAMETER[\\\\\"latitude_of_origin\\\\\",0],PARAMETER[\\\\\"central_meridian\\\\\",-105],PARAMETER[\\\\\"scale_factor\\\\\",0.9996],PARAMETER[\\\\\"false_easting\\\\\",500000],PARAMETER[\\\\\"false_northing\\\\\",0],UNIT[\\\\\"metre\\\\\",1,AUTHORITY[\\\\\"EPSG\\\\\",\\\\\"9001\\\\\"]],AXIS[\\\\\"Easting\\\\\",EAST],AXIS[\\\\\"Northing\\\\\",NORTH],AUTHORITY[\\\\\"EPSG\\\\\",\\\\\"26913\\\\\"]]\",\\n          \"isgeocentric\": false,\\n          \"isgeographic\": false,\\n          \"prettycompoundwkt\": \"COMPD_CS[\\\\\"unknown\\\\\",\\\\n    PROJCS[\\\\\"NAD_1983_UTM_Zone_13N\\\\\",\\\\n        GEOGCS[\\\\\"NAD83\\\\\",\\\\n            DATUM[\\\\\"North_American_Datum_1983\\\\\",\\\\n                SPHEROID[\\\\\"GRS 1980\\\\\",6378137,298.257222101004,\\\\n                    AUTHORITY[\\\\\"EPSG\\\\\",\\\\\"7019\\\\\"]],\\\\n                AUTHORITY[\\\\\"EPSG\\\\\",\\\\\"6269\\\\\"]],\\\\n            PRIMEM[\\\\\"Greenwich\\\\\",0],\\\\n            UNIT[\\\\\"degree\\\\\",0.0174532925199433,\\\\n                AUTHORITY[\\\\\"EPSG\\\\\",\\\\\"9122\\\\\"]],\\\\n            AUTHORITY[\\\\\"EPSG\\\\\",\\\\\"4269\\\\\"]],\\\\n        PROJECTION[\\\\\"Transverse_Mercator\\\\\"],\\\\n        PARAMETER[\\\\\"latitude_of_origin\\\\\",0],\\\\n        PARAMETER[\\\\\"central_meridian\\\\\",-105],\\\\n        PARAMETER[\\\\\"scale_factor\\\\\",0.9996],\\\\n        PARAMETER[\\\\\"false_easting\\\\\",500000],\\\\n        PARAMETER[\\\\\"false_northing\\\\\",0],\\\\n        UNIT[\\\\\"metre\\\\\",1,\\\\n            AUTHORITY[\\\\\"EPSG\\\\\",\\\\\"9001\\\\\"]],\\\\n        AXIS[\\\\\"Easting\\\\\",EAST],\\\\n        AXIS[\\\\\"Northing\\\\\",NORTH],\\\\n        AUTHORITY[\\\\\"EPSG\\\\\",\\\\\"26913\\\\\"]],\\\\n    VERT_CS[\\\\\"NAVD88 height\\\\\",\\\\n        VERT_DATUM[\\\\\"North American Vertical Datum 1988\\\\\",2005,\\\\n            AUTHORITY[\\\\\"EPSG\\\\\",\\\\\"5103\\\\\"]],\\\\n        UNIT[\\\\\"metre\\\\\",1,\\\\n            AUTHORITY[\\\\\"EPSG\\\\\",\\\\\"9001\\\\\"]],\\\\n        AXIS[\\\\\"Up\\\\\",UP],\\\\n        AUTHORITY[\\\\\"EPSG\\\\\",\\\\\"5703\\\\\"]]]\",\\n          \"prettywkt\": \"PROJCS[\\\\\"NAD_1983_UTM_Zone_13N\\\\\",\\\\n    GEOGCS[\\\\\"NAD83\\\\\",\\\\n        DATUM[\\\\\"North_American_Datum_1983\\\\\",\\\\n            SPHEROID[\\\\\"GRS 1980\\\\\",6378137,298.257222101004,\\\\n                AUTHORITY[\\\\\"EPSG\\\\\",\\\\\"7019\\\\\"]],\\\\n            AUTHORITY[\\\\\"EPSG\\\\\",\\\\\"6269\\\\\"]],\\\\n        PRIMEM[\\\\\"Greenwich\\\\\",0],\\\\n        UNIT[\\\\\"degree\\\\\",0.0174532925199433,\\\\n            AUTHORITY[\\\\\"EPSG\\\\\",\\\\\"9122\\\\\"]],\\\\n        AUTHORITY[\\\\\"EPSG\\\\\",\\\\\"4269\\\\\"]],\\\\n    PROJECTION[\\\\\"Transverse_Mercator\\\\\"],\\\\n    PARAMETER[\\\\\"latitude_of_origin\\\\\",0],\\\\n    PARAMETER[\\\\\"central_meridian\\\\\",-105],\\\\n    PARAMETER[\\\\\"scale_factor\\\\\",0.9996],\\\\n    PARAMETER[\\\\\"false_easting\\\\\",500000],\\\\n    PARAMETER[\\\\\"false_northing\\\\\",0],\\\\n    UNIT[\\\\\"metre\\\\\",1,\\\\n        AUTHORITY[\\\\\"EPSG\\\\\",\\\\\"9001\\\\\"]],\\\\n    AXIS[\\\\\"Easting\\\\\",EAST],\\\\n    AXIS[\\\\\"Northing\\\\\",NORTH],\\\\n    AUTHORITY[\\\\\"EPSG\\\\\",\\\\\"26913\\\\\"]]\",\\n          \"proj4\": \"+proj=utm +zone=13 +datum=NAD83 +units=m +vunits=m +no_defs\",\\n          \"units\":\\n          {\\n            \"horizontal\": \"metre\",\\n            \"vertical\": \"metre\"\\n          },\\n          \"vertical\": \"VERT_CS[\\\\\"NAVD88 height\\\\\",VERT_DATUM[\\\\\"North American Vertical Datum 1988\\\\\",2005,AUTHORITY[\\\\\"EPSG\\\\\",\\\\\"5103\\\\\"]],UNIT[\\\\\"metre\\\\\",1,AUTHORITY[\\\\\"EPSG\\\\\",\\\\\"9001\\\\\"]],AXIS[\\\\\"Up\\\\\",UP],AUTHORITY[\\\\\"EPSG\\\\\",\\\\\"5703\\\\\"]]\",\\n          \"wkt\": \"PROJCS[\\\\\"NAD_1983_UTM_Zone_13N\\\\\",GEOGCS[\\\\\"NAD83\\\\\",DATUM[\\\\\"North_American_Datum_1983\\\\\",SPHEROID[\\\\\"GRS 1980\\\\\",6378137,298.257222101004,AUTHORITY[\\\\\"EPSG\\\\\",\\\\\"7019\\\\\"]],AUTHORITY[\\\\\"EPSG\\\\\",\\\\\"6269\\\\\"]],PRIMEM[\\\\\"Greenwich\\\\\",0],UNIT[\\\\\"degree\\\\\",0.0174532925199433,AUTHORITY[\\\\\"EPSG\\\\\",\\\\\"9122\\\\\"]],AUTHORITY[\\\\\"EPSG\\\\\",\\\\\"4269\\\\\"]],PROJECTION[\\\\\"Transverse_Mercator\\\\\"],PARAMETER[\\\\\"latitude_of_origin\\\\\",0],PARAMETER[\\\\\"central_meridian\\\\\",-105],PARAMETER[\\\\\"scale_factor\\\\\",0.9996],PARAMETER[\\\\\"false_easting\\\\\",500000],PARAMETER[\\\\\"false_northing\\\\\",0],UNIT[\\\\\"metre\\\\\",1,AUTHORITY[\\\\\"EPSG\\\\\",\\\\\"9001\\\\\"]],AXIS[\\\\\"Easting\\\\\",EAST],AXIS[\\\\\"Northing\\\\\",NORTH],AUTHORITY[\\\\\"EPSG\\\\\",\\\\\"26913\\\\\"]]\"\\n        },\\n        \"system_id\": \"NIIRS10                        \",\\n        \"vlr_0\":\\n        {\\n          \"data\": \"AQABAAAAGAAABAAAAQABAAIEsYchADUAAAgAAAEArRABCLGHZwBxAAIIAAABAH0YAwgAAAEAxSIGCAAAAQCOIwcIsIcBAAkACAgAAAEAaxsJCLCHAQAGAAsIsIcBAAcADQiwhwEACAAADAAAAQAhaQEMsYc1AAAAAwwAAAEAAQAEDAAAAQApIwUMsIcBAAUACQywhwEAAAAKDLCHAQABAAsMsIcBAAIAEAywhwEAAwAUDLCHAQAEAAEQsYcbAFYAAxAAAAEAKSM=\",\\n          \"description\": \"GeoTiff Projection Keys\",\\n          \"record_id\": 34735,\\n          \"user_id\": \"LASF_Projection\"\\n        },\\n        \"vlr_1\":\\n        {\\n          \"data\": \"AAAAAAAAAAAAAAAAgIQeQQAAAAAAAAAAAAAAAABAWsB4nKIjufzvPwAAAAAAAPA/AAAAQKZUWEHx+euUHaRyQAAAAAAAAAAANJ1SokbfkT8=\",\\n          \"description\": \"GeoTiff double parameters\",\\n          \"record_id\": 34736,\\n          \"user_id\": \"LASF_Projection\"\\n        },\\n        \"vlr_10\":\\n        {\\n          \"data\": \"AQAAIgAAACIAAOBgvAKwGjkaEgASAAgEAAA=\",\\n          \"description\": \"NIIRS10 Tile Index\",\\n          \"record_id\": 1,\\n          \"user_id\": \"NIIRS10\"\\n        },\\n        \"vlr_11\":\\n        {\\n          \"data\": \"AgAAAAMBAAAAAAAAUMMAAP////////////////////8CAAYAFAACAAcACAACAA==\",\\n          \"description\": \"by laszip of LAStools (171030)\",\\n          \"record_id\": 22204,\\n          \"user_id\": \"laszip encoded\"\\n        },\\n        \"vlr_2\":\\n        {\\n          \"data\": \"TkFEODMgLyBVVE0gem9uZSAxM058cHJvamVjdGlvbjogVHJhbnN2ZXJzZSBNZXJjYXRvcnxQQ1MgTmFtZSA9IE5BRF8xOTgzX1VUTV9ab25lXzEzTnxOQVZEODggLSBHZW9pZDEyQSAoTWV0ZXJzKXxHQ1MgTmFtZSA9IEdDU19Ob3J0aF9BbWVyaWNhbl8xOTgzfERhdHVtID0gTm9ydGhfQW1lcmljYW5fMTk4M3xFbGxpcHNvaWQgPSBHUlNfMTk4MHxQcmltZW0gPSBHcmVlbndpY2h8AA==\",\\n          \"description\": \"GeoTiff ASCII parameters\",\\n          \"record_id\": 34737,\\n          \"user_id\": \"LASF_Projection\"\\n        },\\n        \"vlr_3\":\\n        [\\n          {\\n            \"data\": \"AQBMEGcqZXPPAQ==\",\\n            \"description\": \"NIIRS10 Timestamp\",\\n            \"record_id\": 4,\\n            \"user_id\": \"NIIRS10\"\\n          }\\n        ],\\n        \"vlr_4\":\\n        [\\n          {\\n            \"data\": \"AQAAIgAAACIAAOBgvAKwGjkaEgASAAgEAAA=\",\\n            \"description\": \"NIIRS10 Tile Index\",\\n            \"record_id\": 1,\\n            \"user_id\": \"NIIRS10\"\\n          }\\n        ],\\n        \"vlr_5\":\\n        {\\n          \"data\": \"AgAAAAMBAAAAAAAAUMMAAP////////////////////8CAAYAFAACAAcACAACAA==\",\\n          \"description\": \"by laszip of LAStools (171030)\",\\n          \"record_id\": 22204,\\n          \"user_id\": \"laszip encoded\"\\n        },\\n        \"vlr_6\":\\n        {\\n          \"data\": \"AQABAAAAGAAABAAAAQABAAIEsYchADUAAAgAAAEArRABCLGHZwBxAAIIAAABAH0YAwgAAAEAxSIGCAAAAQCOIwcIsIcBAAkACAgAAAEAaxsJCLCHAQAGAAsIsIcBAAcADQiwhwEACAAADAAAAQAhaQEMsYc1AAAAAwwAAAEAAQAEDAAAAQApIwUMsIcBAAUACQywhwEAAAAKDLCHAQABAAsMsIcBAAIAEAywhwEAAwAUDLCHAQAEAAEQsYcbAFYAAxAAAAEAKSM=\",\\n          \"description\": \"GeoTiff Projection Keys\",\\n          \"record_id\": 34735,\\n          \"user_id\": \"LASF_Projection\"\\n        },\\n        \"vlr_7\":\\n        {\\n          \"data\": \"AAAAAAAAAAAAAAAAgIQeQQAAAAAAAAAAAAAAAABAWsB4nKIjufzvPwAAAAAAAPA/AAAAQKZUWEHx+euUHaRyQAAAAAAAAAAANJ1SokbfkT8=\",\\n          \"description\": \"GeoTiff double parameters\",\\n          \"record_id\": 34736,\\n          \"user_id\": \"LASF_Projection\"\\n        },\\n        \"vlr_8\":\\n        {\\n          \"data\": \"TkFEODMgLyBVVE0gem9uZSAxM058cHJvamVjdGlvbjogVHJhbnN2ZXJzZSBNZXJjYXRvcnxQQ1MgTmFtZSA9IE5BRF8xOTgzX1VUTV9ab25lXzEzTnxOQVZEODggLSBHZW9pZDEyQSAoTWV0ZXJzKXxHQ1MgTmFtZSA9IEdDU19Ob3J0aF9BbWVyaWNhbl8xOTgzfERhdHVtID0gTm9ydGhfQW1lcmljYW5fMTk4M3xFbGxpcHNvaWQgPSBHUlNfMTk4MHxQcmltZW0gPSBHcmVlbndpY2h8AA==\",\\n          \"description\": \"GeoTiff ASCII parameters\",\\n          \"record_id\": 34737,\\n          \"user_id\": \"LASF_Projection\"\\n        },\\n        \"vlr_9\":\\n        {\\n          \"data\": \"AQBMEGcqZXPPAQ==\",\\n          \"description\": \"NIIRS10 Timestamp\",\\n          \"record_id\": 4,\\n          \"user_id\": \"NIIRS10\"\\n        }\\n      }\\n    ]\\n  }\\n}\\n'"
      ]
     },
     "execution_count": 14,
     "metadata": {},
     "output_type": "execute_result"
    }
   ],
   "source": [
    "pipeline.metadata"
   ]
  },
  {
   "cell_type": "code",
   "execution_count": 15,
   "metadata": {},
   "outputs": [
    {
     "data": {
      "text/plain": [
       "dtype([('X', '<f8'), ('Y', '<f8'), ('Z', '<f8'), ('Intensity', '<u2'), ('ReturnNumber', 'u1'), ('NumberOfReturns', 'u1'), ('ScanDirectionFlag', 'u1'), ('EdgeOfFlightLine', 'u1'), ('Classification', 'u1'), ('ScanAngleRank', '<f4'), ('UserData', 'u1'), ('PointSourceId', '<u2'), ('GpsTime', '<f8')])"
      ]
     },
     "execution_count": 15,
     "metadata": {},
     "output_type": "execute_result"
    }
   ],
   "source": [
    "arr.dtype"
   ]
  },
  {
   "cell_type": "code",
   "execution_count": 16,
   "metadata": {},
   "outputs": [
    {
     "data": {
      "text/plain": [
       "[('X', '<f8'),\n",
       " ('Y', '<f8'),\n",
       " ('Z', '<f8'),\n",
       " ('Intensity', '<u2'),\n",
       " ('ReturnNumber', '|u1'),\n",
       " ('NumberOfReturns', '|u1'),\n",
       " ('ScanDirectionFlag', '|u1'),\n",
       " ('EdgeOfFlightLine', '|u1'),\n",
       " ('Classification', '|u1'),\n",
       " ('ScanAngleRank', '<f4'),\n",
       " ('UserData', '|u1'),\n",
       " ('PointSourceId', '<u2'),\n",
       " ('GpsTime', '<f8')]"
      ]
     },
     "execution_count": 16,
     "metadata": {},
     "output_type": "execute_result"
    }
   ],
   "source": [
    "arr.dtype.descr"
   ]
  },
  {
   "cell_type": "code",
   "execution_count": 17,
   "metadata": {},
   "outputs": [
    {
     "data": {
      "text/plain": [
       "['X',\n",
       " 'Y',\n",
       " 'Z',\n",
       " 'Intensity',\n",
       " 'ReturnNumber',\n",
       " 'NumberOfReturns',\n",
       " 'ScanDirectionFlag',\n",
       " 'EdgeOfFlightLine',\n",
       " 'Classification',\n",
       " 'ScanAngleRank',\n",
       " 'UserData',\n",
       " 'PointSourceId',\n",
       " 'GpsTime']"
      ]
     },
     "execution_count": 17,
     "metadata": {},
     "output_type": "execute_result"
    }
   ],
   "source": [
    "cols = [col for col, _ in arr.dtype.descr]\n",
    "cols"
   ]
  },
  {
   "cell_type": "code",
   "execution_count": 66,
   "metadata": {},
   "outputs": [
    {
     "name": "stdout",
     "output_type": "stream",
     "text": [
      "CPU times: user 599 ms, sys: 72.2 ms, total: 671 ms\n",
      "Wall time: 670 ms\n"
     ]
    }
   ],
   "source": [
    "%%time\n",
    "df = pd.DataFrame({col:arr[col] for col in cols})"
   ]
  },
  {
   "cell_type": "code",
   "execution_count": 70,
   "metadata": {},
   "outputs": [
    {
     "data": {
      "text/plain": [
       "0           459000.60\n",
       "1           459000.57\n",
       "2           459000.53\n",
       "3           459000.49\n",
       "4           459000.46\n",
       "              ...    \n",
       "10888439    460488.91\n",
       "10888440    460487.65\n",
       "10888441    460486.36\n",
       "10888442    460485.60\n",
       "10888443    460485.09\n",
       "Name: X, Length: 10888444, dtype: float64"
      ]
     },
     "execution_count": 70,
     "metadata": {},
     "output_type": "execute_result"
    }
   ],
   "source": [
    "df['X']"
   ]
  },
  {
   "cell_type": "code",
   "execution_count": null,
   "metadata": {},
   "outputs": [],
   "source": []
  },
  {
   "cell_type": "code",
   "execution_count": null,
   "metadata": {},
   "outputs": [],
   "source": []
  },
  {
   "cell_type": "code",
   "execution_count": null,
   "metadata": {},
   "outputs": [],
   "source": []
  },
  {
   "cell_type": "code",
   "execution_count": null,
   "metadata": {},
   "outputs": [],
   "source": []
  },
  {
   "cell_type": "code",
   "execution_count": 47,
   "metadata": {},
   "outputs": [],
   "source": [
    "df['X_0'] = df['X']\n",
    "df['Y_0'] = df['Y']\n",
    "df['Z_0'] = df['Z']\n",
    "df['X'] = df['X'] - df['X_0'].min()\n",
    "df['Y'] = df['Y'] - df['Y_0'].min()\n",
    "df['Z'] = df['Z'] - df['Z_0'].min()"
   ]
  },
  {
   "cell_type": "code",
   "execution_count": 64,
   "metadata": {},
   "outputs": [
    {
     "data": {
      "text/plain": [
       "1499.9799999999814"
      ]
     },
     "execution_count": 64,
     "metadata": {},
     "output_type": "execute_result"
    }
   ],
   "source": [
    "df['X'].max() -df.X.min()"
   ]
  },
  {
   "cell_type": "code",
   "execution_count": 65,
   "metadata": {},
   "outputs": [
    {
     "data": {
      "text/plain": [
       "1499.9900000002235"
      ]
     },
     "execution_count": 65,
     "metadata": {},
     "output_type": "execute_result"
    }
   ],
   "source": [
    "df.Y.max() - df.Y.min()"
   ]
  },
  {
   "cell_type": "code",
   "execution_count": 55,
   "metadata": {},
   "outputs": [
    {
     "data": {
      "application/vnd.jupyter.widget-view+json": {
       "model_id": "8d45188da5bb4adb8d6df4e9a26e99d4",
       "version_major": 2,
       "version_minor": 0
      },
      "text/plain": [
       "VBox(children=(Figure(camera=PerspectiveCamera(fov=46.0, position=(0.0, 0.0, 2.0), quaternion=(0.0, 0.0, 0.0, …"
      ]
     },
     "metadata": {},
     "output_type": "display_data"
    }
   ],
   "source": [
    "fig = p3.figure(width=1000)\n",
    "fig.xlabel='Y'\n",
    "fig.ylabel='Z'\n",
    "fig.zlabel='X'\n",
    "all_points = p3.scatter(df['Y'], df['Z'], df['X'], color='red', size=.2)\n",
    "p3.squarelim()\n",
    "p3.show()"
   ]
  },
  {
   "cell_type": "code",
   "execution_count": 49,
   "metadata": {},
   "outputs": [
    {
     "data": {
      "text/plain": [
       "17    3605545\n",
       "1     2980068\n",
       "2     2226235\n",
       "18    1998378\n",
       "7       78199\n",
       "11         19\n",
       "Name: Classification, dtype: int64"
      ]
     },
     "execution_count": 49,
     "metadata": {},
     "output_type": "execute_result"
    }
   ],
   "source": [
    "df.Classification.value_counts()"
   ]
  },
  {
   "cell_type": "code",
   "execution_count": 50,
   "metadata": {},
   "outputs": [],
   "source": [
    "df['ground'] = df['Classification'] == 2"
   ]
  },
  {
   "cell_type": "code",
   "execution_count": null,
   "metadata": {},
   "outputs": [],
   "source": []
  },
  {
   "cell_type": "code",
   "execution_count": 51,
   "metadata": {},
   "outputs": [
    {
     "data": {
      "text/plain": [
       "(10888444, 17)"
      ]
     },
     "execution_count": 51,
     "metadata": {},
     "output_type": "execute_result"
    }
   ],
   "source": [
    "df.shape"
   ]
  },
  {
   "cell_type": "code",
   "execution_count": null,
   "metadata": {},
   "outputs": [],
   "source": [
    "# make a smaller version"
   ]
  },
  {
   "cell_type": "code",
   "execution_count": 52,
   "metadata": {},
   "outputs": [],
   "source": [
    "dff = df.iloc[df.index[::10]]"
   ]
  },
  {
   "cell_type": "code",
   "execution_count": 53,
   "metadata": {},
   "outputs": [
    {
     "data": {
      "text/plain": [
       "(1088845, 17)"
      ]
     },
     "execution_count": 53,
     "metadata": {},
     "output_type": "execute_result"
    }
   ],
   "source": [
    "dff.shape"
   ]
  },
  {
   "cell_type": "code",
   "execution_count": 54,
   "metadata": {},
   "outputs": [],
   "source": [
    "ground = p3.scatter(dff.loc[df['ground'], \"Y\"], dff.loc[df['ground'], \"Z\"].values, dff.loc[df.ground, \"X\"].values, color=\"lightgrey\", size=.2 )\n",
    "fig.scatters.append(ground)\n",
    "all_points.visible = False\n"
   ]
  },
  {
   "cell_type": "code",
   "execution_count": 90,
   "metadata": {},
   "outputs": [],
   "source": [
    "lidar_dir = \"/media/thistle/Passport/gis/Idaho_Springs/lidar_downloads/outs/\""
   ]
  },
  {
   "cell_type": "code",
   "execution_count": null,
   "metadata": {},
   "outputs": [],
   "source": [
    "find $lidar_dir -name \"*.laz\" create index.shp \"*.las\""
   ]
  }
 ],
 "metadata": {
  "kernelspec": {
   "display_name": "Python 3",
   "language": "python",
   "name": "python3"
  },
  "language_info": {
   "codemirror_mode": {
    "name": "ipython",
    "version": 3
   },
   "file_extension": ".py",
   "mimetype": "text/x-python",
   "name": "python",
   "nbconvert_exporter": "python",
   "pygments_lexer": "ipython3",
   "version": "3.7.6"
  }
 },
 "nbformat": 4,
 "nbformat_minor": 4
}
